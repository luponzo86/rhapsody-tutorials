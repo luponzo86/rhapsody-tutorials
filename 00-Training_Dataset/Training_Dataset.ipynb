{
 "cells": [
  {
   "cell_type": "markdown",
   "metadata": {},
   "source": [
    "In the following we show how to prepare datasets of human SAVs, with relative features and true labels, to be used for training Rhapsody classifier.\n",
    "\n",
    "## List of human missense variants \n",
    "\n",
    "We start by importing lists of human SAVs, with relative pathogenicity assessments, compiled from the following publicly available datasets:\n",
    "* **Integrated Dataset**, obtained by combining:\n",
    "    * **HumVar, ExoVar, predictSNP, VariBench, SwissVar**, 5 datasets of labelled human missense variants already used in our  [previous publication](https://www.pnas.org/content/115/16/4164) \n",
    "    * **Humsavar**, a database of \"human polymorphisms and disease mutations\" available on [Uniprot](https://www.uniprot.org/docs/humsavar)\n",
    "    * **ClinVar** a \"public archive of reports of the relationships among human variations and phenotypes, with supporting evidence\" [(FTP site)](ftp://ftp.ncbi.nlm.nih.gov/pub/clinvar/tab_delimited/)\n",
    "* **ClinVar** only \n",
    "\n",
    "We also consider ClinVar separately because it contains a *review score*, based on a ranking out of 4 stars, that allows us to test performances on different levels of \"confidence in the accuracy of variation calls and assertions of clinical significance\".\n",
    "\n",
    "When combining datasets into the Integrated Datasets, SAVs with discordant interpretation are assigned with a `true_label = -1`."
   ]
  },
  {
   "cell_type": "code",
   "execution_count": null,
   "metadata": {},
   "outputs": [],
   "source": [
    "import tarfile\n",
    "\n",
    "if not os.path.isdir('data'):\n",
    "    tar = tarfile.open('data.tar.gz', \"r:gz\")\n",
    "    tar.extractall()\n",
    "    tar.close()"
   ]
  },
  {
   "cell_type": "code",
   "execution_count": 1,
   "metadata": {},
   "outputs": [],
   "source": [
    "import numpy as np\n",
    "\n",
    "# import numpy structured arrays\n",
    "ID = np.load('data/Integrated_Dataset-SAVs.npy')\n",
    "CV = np.load('data/ClinVar_Dataset-SAVs.npy')"
   ]
  },
  {
   "cell_type": "code",
   "execution_count": 2,
   "metadata": {},
   "outputs": [
    {
     "name": "stdout",
     "output_type": "stream",
     "text": [
      "Integrated Dataset size: 94505\n",
      "ClinVar size:            20814\n"
     ]
    }
   ],
   "source": [
    "print('Integrated Dataset size:', len(ID))\n",
    "print('ClinVar size:           ', len(CV))"
   ]
  },
  {
   "cell_type": "code",
   "execution_count": 3,
   "metadata": {},
   "outputs": [
    {
     "name": "stdout",
     "output_type": "stream",
     "text": [
      "('SAV_coords', 'true_label', 'datasets')\n",
      "('A0AV02 181 R C', 0, 'humsavar,swissvar')\n"
     ]
    }
   ],
   "source": [
    "print(ID.dtype.names)\n",
    "print(ID[0])"
   ]
  },
  {
   "cell_type": "code",
   "execution_count": 4,
   "metadata": {},
   "outputs": [
    {
     "name": "stdout",
     "output_type": "stream",
     "text": [
      "('SAV_coords', 'true_label', 'review_star')\n",
      "('A0PJY2 278 H Y', 1, 0)\n"
     ]
    }
   ],
   "source": [
    "print(CV.dtype.names)\n",
    "print(CV[0])"
   ]
  },
  {
   "cell_type": "code",
   "execution_count": 5,
   "metadata": {},
   "outputs": [
    {
     "name": "stdout",
     "output_type": "stream",
     "text": [
      "{0, 1, -1}\n",
      "{0, 1, -1}\n"
     ]
    }
   ],
   "source": [
    "# true labels: 0 (neutral), 1 (deleterious), -1 (unknown or discordant interpretations)\n",
    "print( set(ID['true_label']) )\n",
    "print( set(CV['true_label']) )"
   ]
  },
  {
   "cell_type": "code",
   "execution_count": 6,
   "metadata": {},
   "outputs": [
    {
     "name": "stdout",
     "output_type": "stream",
     "text": [
      "{0, 1, 2, 3, 4}\n"
     ]
    }
   ],
   "source": [
    "# ClinVar review stars (see https://www.ncbi.nlm.nih.gov/clinvar/docs/review_status for meaning)\n",
    "print( set(CV['review_star']) )"
   ]
  },
  {
   "cell_type": "markdown",
   "metadata": {},
   "source": [
    "## Computing Rhapsody features\n",
    "Precomputed features can be found in `data/` (computing them from scratch for the complete dataset would take days).\n",
    "\n",
    "In the following, we show how to compute Rhapsody features for a small set of SAVs."
   ]
  },
  {
   "cell_type": "code",
   "execution_count": 7,
   "metadata": {},
   "outputs": [],
   "source": [
    "test_SAVs = ['O00294 496 A T', 'O00238 31 R H']"
   ]
  },
  {
   "cell_type": "code",
   "execution_count": 8,
   "metadata": {},
   "outputs": [],
   "source": [
    "import os,sys\n",
    "\n",
    "# Insert here path to Rhapsody folder\n",
    "sys.path.insert(0, '/home/lponzoni/Scratch/028-RHAPSODY-git/rhapsody') \n",
    "import rhapsody "
   ]
  },
  {
   "cell_type": "code",
   "execution_count": 9,
   "metadata": {},
   "outputs": [
    {
     "name": "stderr",
     "output_type": "stream",
     "text": [
      "@> Local Rhapsody folder is set: '/home/lponzoni/Scratch/028-RHAPSODY-git/rhapsody-tutorials/00-Training_Dataset/pickles'\n"
     ]
    }
   ],
   "source": [
    "# set folder where pickles will be stored\n",
    "if not os.path.isdir('pickles'):\n",
    "    os.mkdir('pickles')\n",
    "rhapsody.pathRhapsodyFolder('pickles/')"
   ]
  },
  {
   "cell_type": "code",
   "execution_count": 10,
   "metadata": {
    "scrolled": true
   },
   "outputs": [
    {
     "name": "stderr",
     "output_type": "stream",
     "text": [
      "@> Local EVmutation folder is set: '/home/lponzoni/Data/025-EVmutation/mutation_effects'\n"
     ]
    }
   ],
   "source": [
    "# Insert here path to folder with EVmutation precomputed mutation effects\n",
    "rhapsody.pathEVmutationFolder('/home/lponzoni/Data/025-EVmutation/mutation_effects')"
   ]
  },
  {
   "cell_type": "code",
   "execution_count": 11,
   "metadata": {},
   "outputs": [],
   "source": [
    "if not os.path.isdir('results'):\n",
    "    os.mkdir('results')\n",
    "os.chdir('results')"
   ]
  },
  {
   "cell_type": "code",
   "execution_count": 12,
   "metadata": {},
   "outputs": [],
   "source": [
    "# initialize a rhapsody object\n",
    "rh = rhapsody.Rhapsody()"
   ]
  },
  {
   "cell_type": "code",
   "execution_count": 13,
   "metadata": {},
   "outputs": [
    {
     "name": "stderr",
     "output_type": "stream",
     "text": [
      "@> PolyPhen-2's output parsed.\n"
     ]
    }
   ],
   "source": [
    "# import SAVs by querying PolyPhen-2 (or by importing precomputed PolyPhen-2 output file, if found)\n",
    "if os.path.isfile('pph2-full.txt'):\n",
    "    rh.importPolyPhen2output('pph2-full.txt')\n",
    "else:\n",
    "    rh.queryPolyPhen2(test_SAVs)"
   ]
  },
  {
   "cell_type": "code",
   "execution_count": 14,
   "metadata": {},
   "outputs": [],
   "source": [
    "# we would like to compute all features\n",
    "rh.setFeatSet('all')"
   ]
  },
  {
   "cell_type": "code",
   "execution_count": 15,
   "metadata": {
    "scrolled": true
   },
   "outputs": [],
   "source": [
    "# true labels must be imported prior to exporting training data\n",
    "true_labels = {\n",
    "    'O00294 496 A T': 1,\n",
    "    'O00238 31 R H': 0\n",
    "}\n",
    "rh.setTrueLabels(true_labels)"
   ]
  },
  {
   "cell_type": "code",
   "execution_count": 16,
   "metadata": {},
   "outputs": [
    {
     "name": "stderr",
     "output_type": "stream",
     "text": [
      "@> Sequence-conservation features have been retrieved from PolyPhen-2's output.\n",
      "@> Mapping SAVs to PDB structures...\n",
      "@> [1/2] Mapping SAV 'O00238 31 R H' to PDB...\n",
      "@> WARNING Unable to recover pickle: File 'UniprotMap-O00238.pkl' not found\n",
      "@> PDB file is found in the local folder (/home/lponzoni/.../3mdy.pdb.gz).\n",
      "@> 858 atoms and 1 coordinate set(s) were parsed in 0.05s.\n",
      "@> [2/2] Mapping SAV 'O00294 496 A T' to PDB...\n",
      "@> Pickle 'UniprotMap-O00238.pkl' saved.\n",
      "@> WARNING Unable to recover pickle: File 'UniprotMap-O00294.pkl' not found\n",
      "@> PDB file is found in the local folder (/home/lponzoni/.../2fim.pdb.gz).\n",
      "@> 456 atoms and 1 coordinate set(s) were parsed in 0.02s.\n",
      "@> PDB file is found in the local folder (/home/lponzoni/.../3c5n.pdb.gz).\n",
      "@> 454 atoms and 1 coordinate set(s) were parsed in 0.04s.\n",
      "@> Chain A in 2FIM was aligned in 0.2s.\n",
      "@> Pickle 'UniprotMap-O00294.pkl' saved.\n",
      "@> SAVs have been mapped to PDB in 3.4s.\n",
      "@> Computing structural and dynamical features from PDB structures...\n",
      "@> [2/2] Analizing mutation site 2FIM:A 443...\n",
      "@> WARNING Unable to recover pickle: File 'PDBfeatures-2FIM.pkl' not found\n",
      "@> PDB file is found in the local folder (/home/lponzoni/.../2fim.pdb.gz).\n",
      "@> 3841 atoms and 1 coordinate set(s) were parsed in 0.07s.\n",
      "@> Running DSSP...\n",
      "@> DSSP finished in 4.0s.\n",
      "@> Running DSSP...\n",
      "@> DSSP finished in 0.8s.\n",
      "@> Kirchhoff was built in 0.01s.\n",
      "@> 223 modes were calculated in 0.08s.\n",
      "@> Calculating covariance matrix\n",
      "@> Covariance matrix calculated in 0.0s.\n",
      "@> Calculating perturbation response\n",
      "@> Perturbation response matrix calculated in 0.0s.\n",
      "@> Perturbation response scanning completed in 0.0s.\n",
      "@> Hessian was built in 0.21s.\n",
      "@> 666 modes were calculated in 0.14s.\n",
      "@> Calculating covariance matrix\n",
      "@> Covariance matrix calculated in 0.1s.\n",
      "@> Calculating perturbation response\n",
      "@> Perturbation response matrix calculated in 0.0s.\n",
      "@> Perturbation response scanning completed in 0.1s.\n",
      "@> Calculating stiffness matrix.\n",
      "@> Stiffness matrix calculated in 0.29s.\n",
      "@> The range of effective force constant is: 4.5812809542425965 to 26.124107763482904.\n",
      "@> Kirchhoff was built in 0.02s.\n",
      "@> 223 modes were calculated in 0.07s.\n",
      "@> Calculating covariance matrix\n",
      "@> Covariance matrix calculated in 0.0s.\n",
      "@> Calculating perturbation response\n",
      "@> Perturbation response matrix calculated in 0.0s.\n",
      "@> Perturbation response scanning completed in 0.0s.\n",
      "@> Hessian was built in 0.40s.\n",
      "@> 666 modes were calculated in 0.13s.\n",
      "@> Calculating covariance matrix\n",
      "@> Covariance matrix calculated in 0.1s.\n",
      "@> Calculating perturbation response\n",
      "@> Perturbation response matrix calculated in 0.0s.\n",
      "@> Perturbation response scanning completed in 0.1s.\n",
      "@> Calculating stiffness matrix.\n",
      "@> Stiffness matrix calculated in 0.28s.\n",
      "@> The range of effective force constant is: 4.6986162875699415 to 26.314587947383718.\n",
      "@> Kirchhoff was built in 0.03s.\n",
      "@> 455 modes were calculated in 0.16s.\n",
      "@> Calculating covariance matrix\n",
      "@> Covariance matrix calculated in 0.0s.\n",
      "@> Calculating perturbation response\n",
      "@> Perturbation response matrix calculated in 0.0s.\n",
      "@> Perturbation response scanning completed in 0.0s.\n",
      "@> Hessian was built in 0.39s.\n",
      "@> 1362 modes were calculated in 0.76s.\n",
      "@> Calculating covariance matrix\n",
      "@> Covariance matrix calculated in 0.1s.\n",
      "@> Calculating perturbation response\n",
      "@> Perturbation response matrix calculated in 0.0s.\n",
      "@> Perturbation response scanning completed in 0.1s.\n",
      "@> Calculating stiffness matrix.\n",
      "@> Stiffness matrix calculated in 0.62s.\n",
      "@> The range of effective force constant is: 4.521514034162192 to 26.045579975322646.\n",
      "@> Pickle 'PDBfeatures-2FIM.pkl' saved.\n",
      "@> PDB features have been computed in 9.4s.\n",
      "@> Computing sequence properties from Pfam domains...\n",
      "@> [1/2] Mapping SAV 'O00238 31 R H' to Pfam...\n",
      "@> Pickle 'UniprotMap-O00238.pkl' recovered.\n",
      "@> Retrieving Pfam search results: https://pfam.xfam.org/protein/O00238?output=xml\n",
      "@> Pfam search completed in 0.41s.\n",
      "@> Query 'O00238' matched 3 Pfam families.\n",
      "@> Processing PF01064...\n",
      "@> Pfam MSA for PF01064 is written as PF01064_full.sth.\n",
      "@> 1768 sequence(s) with 359 residues were parsed in 0.01s.\n",
      "@> Number of columns in MSA reduced to 77.\n",
      "@> Row occupancy refinement reduced number of rows from 1768 to 1728 in 0.00s.\n",
      "@> Sequence identity refinement reduced number of rows from 1728 to 668 in 0.18s.\n",
      "@> Mutual information matrix was calculated in 0.03s.\n",
      "@> [2/2] Mapping SAV 'O00294 496 A T' to Pfam...\n",
      "@> Pickle 'UniprotMap-O00238.pkl' saved.\n",
      "@> Pickle 'UniprotMap-O00294.pkl' recovered.\n",
      "@> Retrieving Pfam search results: https://pfam.xfam.org/protein/O00294?output=xml\n",
      "@> Pfam search completed in 0.39s.\n",
      "@> Query 'O00294' matched 1 Pfam families.\n",
      "@> Processing PF01167...\n",
      "@> Pfam MSA for PF01167 is written as PF01167_full.sth.\n",
      "@> 2789 sequence(s) with 1659 residues were parsed in 0.03s.\n",
      "@> Number of columns in MSA reduced to 241.\n",
      "@> Row occupancy refinement reduced number of rows from 2789 to 2108 in 0.00s.\n",
      "@> Sequence identity refinement reduced number of rows from 2108 to 1102 in 1.12s.\n",
      "@> Mutual information matrix was calculated in 0.28s.\n",
      "@> Pickle 'UniprotMap-O00294.pkl' saved.\n",
      "@> SAVs have been mapped on Pfam domains and sequence properties have been computed in 6.8s.\n",
      "@> Recovering EVmutation data...\n",
      "@> EVmutation scores recovered in 0.1s.\n"
     ]
    },
    {
     "data": {
      "text/plain": [
       "array([('O00294 496 A T', '2FIM A 443 A', 224, 1, 0.41869268, 0.2725254, 0.30990002, 0.00208266, 0.00289542, 0.0444308, 0.00296154, 0.00206255, 0.04027145, 0., 0.754,  1., -3.1479, -1.0065, 0.0662341, 0.3341, 0.09581726, 0.08719353, 0.08953744, 0.00398543, 0.00332497, 0.01278353, 0.00573205, 0.00480731, 0.01438932, 79., 78., 2.1440704, 0.813278  , 12.638108, 14.42894, 14.559032, -2.376),\n",
       "       ('O00238 31 R H', 'Unable to map SAV to PDB',   0, 0,        nan,       nan,        nan,        nan,        nan,       nan,        nan,        nan,        nan, 0., 1.634, nan, -2.4718, -2.461 , 0.0102818, 0.3508,        nan,        nan,        nan,        nan,        nan,        nan,        nan,        nan,        nan, nan, nan, 1.8702421, 0.23376623,       nan,      nan,       nan, -2.769)],\n",
       "      dtype=[('SAV_coords', '<U50'), ('Uniprot2PDB', '<U100'), ('PDB_length', '<i2'), ('true_label', '<i2'), ('ANM_MSF-chain', '<f4'), ('ANM_MSF-reduced', '<f4'), ('ANM_MSF-sliced', '<f4'), ('ANM_effectiveness-chain', '<f4'), ('ANM_effectiveness-reduced', '<f4'), ('ANM_effectiveness-sliced', '<f4'), ('ANM_sensitivity-chain', '<f4'), ('ANM_sensitivity-reduced', '<f4'), ('ANM_sensitivity-sliced', '<f4'), ('BLOSUM', '<f4'), ('Delta_PSIC', '<f4'), ('Delta_SASA', '<f4'), ('EVmut-DeltaE_epist', '<f4'), ('EVmut-DeltaE_indep', '<f4'), ('EVmut-mut_aa_freq', '<f4'), ('EVmut-wt_aa_cons', '<f4'), ('GNM_MSF-chain', '<f4'), ('GNM_MSF-reduced', '<f4'), ('GNM_MSF-sliced', '<f4'), ('GNM_effectiveness-chain', '<f4'), ('GNM_effectiveness-reduced', '<f4'), ('GNM_effectiveness-sliced', '<f4'), ('GNM_sensitivity-chain', '<f4'), ('GNM_sensitivity-reduced', '<f4'), ('GNM_sensitivity-sliced', '<f4'), ('SASA', '<f4'), ('SASA_in_complex', '<f4'), ('entropy', '<f4'), ('ranked_MI', '<f4'), ('stiffness-chain', '<f4'), ('stiffness-reduced', '<f4'), ('stiffness-sliced', '<f4'), ('wt_PSIC', '<f4')])"
      ]
     },
     "execution_count": 16,
     "metadata": {},
     "output_type": "execute_result"
    }
   ],
   "source": [
    "training_dataset = rh.exportTrainingData()\n",
    "training_dataset"
   ]
  },
  {
   "cell_type": "code",
   "execution_count": 17,
   "metadata": {},
   "outputs": [],
   "source": [
    "np.save('precomputed_features', training_dataset)"
   ]
  }
 ],
 "metadata": {
  "kernelspec": {
   "display_name": "Python 3",
   "language": "python",
   "name": "python3"
  },
  "language_info": {
   "codemirror_mode": {
    "name": "ipython",
    "version": 3
   },
   "file_extension": ".py",
   "mimetype": "text/x-python",
   "name": "python",
   "nbconvert_exporter": "python",
   "pygments_lexer": "ipython3",
   "version": "3.7.2"
  }
 },
 "nbformat": 4,
 "nbformat_minor": 2
}
