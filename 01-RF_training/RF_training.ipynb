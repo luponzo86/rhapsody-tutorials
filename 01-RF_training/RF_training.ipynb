{
 "cells": [
  {
   "cell_type": "markdown",
   "metadata": {},
   "source": [
    "We show here how to train the Rhapsody random forest classifier in its final form.\n",
    "\n",
    "Based on the analyses illustrated in the `RF_optimization` notebook, we will make the following choices:\n",
    "* the training dataset will only contain SAVs with at least 1 review star in the ClinVar database (when available) and with same clinical interpretation in all 7 datasets\n",
    "* only PDB structures with at least 150 residues will be considered\n",
    "* the random forest classifier hyperparameters are set based on the optimization procedure (max. number of features = 2, number of trees in the forest = 1500)\n",
    "* dynamical features are computed from ANM without environmental effects (`chain` model)\n",
    "\n",
    "## Importing training dataset"
   ]
  },
  {
   "cell_type": "code",
   "execution_count": 1,
   "metadata": {},
   "outputs": [],
   "source": [
    "import sys, os\n",
    "import pickle\n",
    "import numpy as np\n",
    "from glob import glob\n",
    "from prody import LOGGER"
   ]
  },
  {
   "cell_type": "code",
   "execution_count": 2,
   "metadata": {},
   "outputs": [
    {
     "data": {
      "text/plain": [
       "91697"
      ]
     },
     "execution_count": 2,
     "metadata": {},
     "output_type": "execute_result"
    }
   ],
   "source": [
    "# please make sure to extract the data folder beforehand\n",
    "ID = np.load('../00-Training_Dataset/data/precomputed_features-ID.npy')\n",
    "len(ID)"
   ]
  },
  {
   "cell_type": "code",
   "execution_count": 3,
   "metadata": {},
   "outputs": [
    {
     "data": {
      "text/plain": [
       "87726"
      ]
     },
     "execution_count": 3,
     "metadata": {},
     "output_type": "execute_result"
    }
   ],
   "source": [
    "# let's discard SAVs with unknown significance (true_label == -1), ...\n",
    "ID = ID[ID['true_label'] != -1]\n",
    "len(ID)"
   ]
  },
  {
   "cell_type": "code",
   "execution_count": 4,
   "metadata": {},
   "outputs": [
    {
     "data": {
      "text/plain": [
       "23085"
      ]
     },
     "execution_count": 4,
     "metadata": {},
     "output_type": "execute_result"
    }
   ],
   "source": [
    "# ... SAVs with associated PDB structure smaller than 150 residues ...\n",
    "ID = ID[ ID['PDB_length' ] >= 150]\n",
    "len(ID)"
   ]
  },
  {
   "cell_type": "code",
   "execution_count": 5,
   "metadata": {
    "scrolled": true
   },
   "outputs": [
    {
     "data": {
      "text/plain": [
       "20361"
      ]
     },
     "execution_count": 5,
     "metadata": {},
     "output_type": "execute_result"
    }
   ],
   "source": [
    "# ... and SAVs with 0 review star according to ClinVar\n",
    "ClinVar_SAVs  = np.load('../00-Training_Dataset/data/ClinVar_Dataset-SAVs.npy')\n",
    "excluded_SAVs = set(ClinVar_SAVs[ClinVar_SAVs['review_star'] < 1]['SAV_coords'])\n",
    "ID = ID[ [SAV not in excluded_SAVs for SAV in ID['SAV_coords']] ]\n",
    "len(ID)"
   ]
  },
  {
   "cell_type": "markdown",
   "metadata": {},
   "source": [
    "## Training of Random Forest classifier\n",
    "\n",
    "We train 3 classifiers based on different set of features:"
   ]
  },
  {
   "cell_type": "code",
   "execution_count": 6,
   "metadata": {},
   "outputs": [],
   "source": [
    "featsets = {\n",
    "    'v2': [        # full classifier\n",
    "        'wt_PSIC', 'Delta_PSIC', 'SASA', \n",
    "        'ANM_MSF-chain', 'ANM_effectiveness-chain', 'ANM_sensitivity-chain',\n",
    "        'stiffness-chain', 'entropy', 'ranked_MI', 'BLOSUM'\n",
    "    ],\n",
    "    'v2_noPfam': [ # reduced classifier\n",
    "        'wt_PSIC', 'Delta_PSIC', 'SASA', \n",
    "        'ANM_MSF-chain', 'ANM_effectiveness-chain', 'ANM_sensitivity-chain',\n",
    "        'stiffness-chain', 'BLOSUM'\n",
    "    ],\n",
    "    'v2_EVmut': [  # full classifier + EVmutation epistatic score\n",
    "        'wt_PSIC', 'Delta_PSIC', 'SASA', \n",
    "        'ANM_MSF-chain', 'ANM_effectiveness-chain', 'ANM_sensitivity-chain',\n",
    "        'stiffness-chain', 'entropy', 'ranked_MI', 'BLOSUM', 'EVmut-DeltaE_epist'\n",
    "    ],\n",
    "}"
   ]
  },
  {
   "cell_type": "code",
   "execution_count": 7,
   "metadata": {},
   "outputs": [],
   "source": [
    "# Insert here path to Rhapsody folder\n",
    "sys.path.insert(0, '/home/lponzoni/Scratch/028-RHAPSODY-git/rhapsody')\n",
    "\n",
    "from rhapsody import *"
   ]
  },
  {
   "cell_type": "code",
   "execution_count": 8,
   "metadata": {},
   "outputs": [],
   "source": [
    "if not os.path.isdir('results'):\n",
    "    os.mkdir('results')"
   ]
  },
  {
   "cell_type": "code",
   "execution_count": 9,
   "metadata": {},
   "outputs": [
    {
     "name": "stderr",
     "output_type": "stream",
     "text": [
      "@> Logging into file: results/RF_training.log\n",
      "@> Logging started at 2019-03-15 21:11:43.224632\n",
      "@> VERSION: v2\n",
      "@> 3918 out of 20361 cases ignored with missing features.\n",
      "@> CV iteration # 1:   AUROC = 0.864   AUPRC = 0.925   OOB score = 0.809\n",
      "@> CV iteration # 2:   AUROC = 0.864   AUPRC = 0.924   OOB score = 0.810\n",
      "@> CV iteration # 3:   AUROC = 0.844   AUPRC = 0.913   OOB score = 0.813\n",
      "@> CV iteration # 4:   AUROC = 0.869   AUPRC = 0.929   OOB score = 0.810\n",
      "@> CV iteration # 5:   AUROC = 0.857   AUPRC = 0.925   OOB score = 0.812\n",
      "@> CV iteration # 6:   AUROC = 0.851   AUPRC = 0.920   OOB score = 0.813\n",
      "@> CV iteration # 7:   AUROC = 0.860   AUPRC = 0.924   OOB score = 0.811\n",
      "@> CV iteration # 8:   AUROC = 0.859   AUPRC = 0.925   OOB score = 0.811\n",
      "@> CV iteration # 9:   AUROC = 0.847   AUPRC = 0.911   OOB score = 0.810\n",
      "@> CV iteration #10:   AUROC = 0.850   AUPRC = 0.915   OOB score = 0.812\n",
      "@> ------------------------------------------------------------\n",
      "@> Cross-validation summary:\n",
      "@> training dataset size:   16443\n",
      "@> fraction of positives:   0.690\n",
      "@> mean AUROC:              0.856\n",
      "@> mean AUPRC:              0.921\n",
      "@> mean OOB score:          0.811\n",
      "@> optimal cutoff*:         0.704 +/- 0.035\n",
      "@> (* argmax of Youden's index)\n",
      "@> feature importances:\n",
      "@>                 wt_PSIC: 0.153\n",
      "@>              Delta_PSIC: 0.201\n",
      "@>                    SASA: 0.075\n",
      "@>           ANM_MSF-chain: 0.082\n",
      "@> ANM_effectiveness-chain: 0.086\n",
      "@>   ANM_sensitivity-chain: 0.079\n",
      "@>         stiffness-chain: 0.090\n",
      "@>                 entropy: 0.108\n",
      "@>               ranked_MI: 0.076\n",
      "@>                  BLOSUM: 0.049\n",
      "@> ------------------------------------------------------------\n",
      "@> Predictions distribution saved to predictions_distribution.png\n",
      "@> Pathogenicity plot saved to pathogenicity_prob.png\n",
      "@> ROC plot saved to ROC.png\n",
      "@> ------------------------------------------------------------\n",
      "@> Classifier training summary:\n",
      "@> mean OOB score:          0.811\n",
      "@> feature importances:\n",
      "@>                 wt_PSIC: 0.151\n",
      "@>              Delta_PSIC: 0.202\n",
      "@>                    SASA: 0.076\n",
      "@>           ANM_MSF-chain: 0.083\n",
      "@> ANM_effectiveness-chain: 0.086\n",
      "@>   ANM_sensitivity-chain: 0.079\n",
      "@>         stiffness-chain: 0.090\n",
      "@>                 entropy: 0.107\n",
      "@>               ranked_MI: 0.076\n",
      "@>                  BLOSUM: 0.049\n",
      "@> ------------------------------------------------------------\n",
      "@> Feat. importance plot saved to feat_importances.png\n",
      "@> \n",
      "@> VERSION: v2_noPfam\n",
      "@> 171 out of 20361 cases ignored with missing features.\n",
      "@> CV iteration # 1:   AUROC = 0.846   AUPRC = 0.901   OOB score = 0.796\n",
      "@> CV iteration # 2:   AUROC = 0.844   AUPRC = 0.907   OOB score = 0.796\n",
      "@> CV iteration # 3:   AUROC = 0.848   AUPRC = 0.909   OOB score = 0.794\n",
      "@> CV iteration # 4:   AUROC = 0.839   AUPRC = 0.897   OOB score = 0.797\n",
      "@> CV iteration # 5:   AUROC = 0.844   AUPRC = 0.905   OOB score = 0.797\n",
      "@> CV iteration # 6:   AUROC = 0.837   AUPRC = 0.899   OOB score = 0.797\n",
      "@> CV iteration # 7:   AUROC = 0.833   AUPRC = 0.893   OOB score = 0.797\n",
      "@> CV iteration # 8:   AUROC = 0.857   AUPRC = 0.918   OOB score = 0.795\n",
      "@> CV iteration # 9:   AUROC = 0.844   AUPRC = 0.906   OOB score = 0.797\n",
      "@> CV iteration #10:   AUROC = 0.841   AUPRC = 0.903   OOB score = 0.795\n",
      "@> ------------------------------------------------------------\n",
      "@> Cross-validation summary:\n",
      "@> training dataset size:   20190\n",
      "@> fraction of positives:   0.669\n",
      "@> mean AUROC:              0.843\n",
      "@> mean AUPRC:              0.904\n",
      "@> mean OOB score:          0.796\n",
      "@> optimal cutoff*:         0.696 +/- 0.019\n",
      "@> (* argmax of Youden's index)\n",
      "@> feature importances:\n",
      "@>                 wt_PSIC: 0.187\n",
      "@>              Delta_PSIC: 0.235\n",
      "@>                    SASA: 0.097\n",
      "@>           ANM_MSF-chain: 0.104\n",
      "@> ANM_effectiveness-chain: 0.107\n",
      "@>   ANM_sensitivity-chain: 0.102\n",
      "@>         stiffness-chain: 0.112\n",
      "@>                  BLOSUM: 0.056\n",
      "@> ------------------------------------------------------------\n",
      "@> Predictions distribution saved to predictions_distribution.png\n",
      "@> Pathogenicity plot saved to pathogenicity_prob.png\n",
      "@> ROC plot saved to ROC.png\n",
      "@> ------------------------------------------------------------\n",
      "@> Classifier training summary:\n",
      "@> mean OOB score:          0.796\n",
      "@> feature importances:\n",
      "@>                 wt_PSIC: 0.189\n",
      "@>              Delta_PSIC: 0.233\n",
      "@>                    SASA: 0.098\n",
      "@>           ANM_MSF-chain: 0.104\n",
      "@> ANM_effectiveness-chain: 0.107\n",
      "@>   ANM_sensitivity-chain: 0.102\n",
      "@>         stiffness-chain: 0.111\n",
      "@>                  BLOSUM: 0.056\n",
      "@> ------------------------------------------------------------\n",
      "@> Feat. importance plot saved to feat_importances.png\n",
      "@> \n",
      "@> VERSION: v2_EVmut\n",
      "@> 7328 out of 20361 cases ignored with missing features.\n",
      "@> CV iteration # 1:   AUROC = 0.861   AUPRC = 0.936   OOB score = 0.832\n",
      "@> CV iteration # 2:   AUROC = 0.841   AUPRC = 0.923   OOB score = 0.832\n",
      "@> CV iteration # 3:   AUROC = 0.867   AUPRC = 0.943   OOB score = 0.833\n",
      "@> CV iteration # 4:   AUROC = 0.870   AUPRC = 0.945   OOB score = 0.833\n",
      "@> CV iteration # 5:   AUROC = 0.832   AUPRC = 0.930   OOB score = 0.835\n",
      "@> CV iteration # 6:   AUROC = 0.859   AUPRC = 0.940   OOB score = 0.832\n",
      "@> CV iteration # 7:   AUROC = 0.848   AUPRC = 0.933   OOB score = 0.832\n",
      "@> CV iteration # 8:   AUROC = 0.874   AUPRC = 0.945   OOB score = 0.832\n",
      "@> CV iteration # 9:   AUROC = 0.850   AUPRC = 0.936   OOB score = 0.833\n",
      "@> CV iteration #10:   AUROC = 0.842   AUPRC = 0.928   OOB score = 0.833\n",
      "@> ------------------------------------------------------------\n",
      "@> Cross-validation summary:\n",
      "@> training dataset size:   13033\n",
      "@> fraction of positives:   0.746\n",
      "@> mean AUROC:              0.854\n",
      "@> mean AUPRC:              0.936\n",
      "@> mean OOB score:          0.833\n",
      "@> optimal cutoff*:         0.750 +/- 0.034\n",
      "@> (* argmax of Youden's index)\n",
      "@> feature importances:\n",
      "@>                 wt_PSIC: 0.118\n",
      "@>              Delta_PSIC: 0.150\n",
      "@>                    SASA: 0.067\n",
      "@>           ANM_MSF-chain: 0.070\n",
      "@> ANM_effectiveness-chain: 0.078\n",
      "@>   ANM_sensitivity-chain: 0.072\n",
      "@>         stiffness-chain: 0.075\n",
      "@>                 entropy: 0.088\n",
      "@>               ranked_MI: 0.067\n",
      "@>                  BLOSUM: 0.039\n",
      "@>      EVmut-DeltaE_epist: 0.176\n",
      "@> ------------------------------------------------------------\n",
      "@> Predictions distribution saved to predictions_distribution.png\n",
      "@> Pathogenicity plot saved to pathogenicity_prob.png\n",
      "@> ROC plot saved to ROC.png\n",
      "@> ------------------------------------------------------------\n",
      "@> Classifier training summary:\n",
      "@> mean OOB score:          0.832\n",
      "@> feature importances:\n",
      "@>                 wt_PSIC: 0.119\n",
      "@>              Delta_PSIC: 0.151\n",
      "@>                    SASA: 0.066\n",
      "@>           ANM_MSF-chain: 0.070\n",
      "@> ANM_effectiveness-chain: 0.078\n",
      "@>   ANM_sensitivity-chain: 0.072\n",
      "@>         stiffness-chain: 0.076\n",
      "@>                 entropy: 0.086\n",
      "@>               ranked_MI: 0.068\n",
      "@>                  BLOSUM: 0.039\n",
      "@>      EVmut-DeltaE_epist: 0.177\n",
      "@> ------------------------------------------------------------\n",
      "@> Feat. importance plot saved to feat_importances.png\n",
      "@> \n",
      "@> Logging stopped at 2019-03-15 21:18:55.474643\n",
      "@> Closing logfile: results/RF_training.log\n"
     ]
    }
   ],
   "source": [
    "if os.path.isfile('results/RF_training_summaries.pkl'):\n",
    "    print('A pickle containing precomputed results have been found.')\n",
    "    print('Please delete it if you wish to run the analysis again.')\n",
    "else:\n",
    "    LOGGER.start('results/RF_training.log')\n",
    "    RF_training_summaries = {}\n",
    "\n",
    "    for version in ['v2', 'v2_noPfam', 'v2_EVmut']:\n",
    "        \n",
    "        featset = ['SAV_coords', 'true_label'] + featsets[version]\n",
    "\n",
    "        LOGGER.info(f'VERSION: {version}')\n",
    "\n",
    "        # create folder\n",
    "        folder = f'results/RF_training-{version}'\n",
    "        os.mkdir(folder)\n",
    "\n",
    "        # run training procedure\n",
    "        output_dict = trainRFclassifier(ID[featset])\n",
    "        RF_training_summaries[version] = output_dict['CV summary']\n",
    "\n",
    "        # move trained classifier and figures into folder\n",
    "        for file in glob('*png') + ['trained_classifier.pkl',]:\n",
    "            os.rename(file, os.path.join(folder, file))\n",
    "\n",
    "        LOGGER.info('')\n",
    "                    \n",
    "    # store all cross-validation results into a pickle\n",
    "    pickle.dump(RF_training_summaries, open('results/RF_training_summaries.pkl', 'wb'))\n",
    "\n",
    "    LOGGER.close('results/RF_training.log')"
   ]
  },
  {
   "cell_type": "code",
   "execution_count": 10,
   "metadata": {},
   "outputs": [],
   "source": [
    "# recover precomputed training results\n",
    "RF_training_summaries = pickle.load(open('results/RF_training_summaries.pkl', 'rb'))"
   ]
  },
  {
   "cell_type": "markdown",
   "metadata": {},
   "source": [
    "## Comparison with PolyPhen-2 and EVmutation\n",
    "\n",
    "Let's recover a NumPy array containing predictions from PolyPhen-2:"
   ]
  },
  {
   "cell_type": "code",
   "execution_count": 11,
   "metadata": {},
   "outputs": [
    {
     "data": {
      "text/plain": [
       "dtype([('SAV_coords', '<U25'), ('prediction', '<U25'), ('pph2_class', '<U25'), ('pph2_prob', '<f4')])"
      ]
     },
     "execution_count": 11,
     "metadata": {},
     "output_type": "execute_result"
    }
   ],
   "source": [
    "pph2_predictions = np.load('../00-Training_Dataset/data/PolyPhen2_predictions-ID.npy')\n",
    "pph2_predictions.dtype"
   ]
  },
  {
   "cell_type": "code",
   "execution_count": 12,
   "metadata": {},
   "outputs": [],
   "source": [
    "# We select the same subset of the Integrated Dataset as the one used for Rhapsody\n",
    "pph2_predictions = pph2_predictions[ [SAV in ID['SAV_coords'] for SAV in pph2_predictions['SAV_coords']] ]"
   ]
  },
  {
   "cell_type": "code",
   "execution_count": 13,
   "metadata": {},
   "outputs": [],
   "source": [
    "# NB: the two arrays should be sorted in the same way\n",
    "assert all(pph2_predictions['SAV_coords'] == ID['SAV_coords'])"
   ]
  },
  {
   "cell_type": "code",
   "execution_count": 14,
   "metadata": {},
   "outputs": [
    {
     "name": "stdout",
     "output_type": "stream",
     "text": [
      "PolyPhen-2 :   n.SAVs = 20360    AUROC = 0.799    AUPRC = 0.857\n",
      "EV_mutation:   n.SAVs = 13644    AUROC = 0.808    AUPRC = 0.908\n"
     ]
    }
   ],
   "source": [
    "from sklearn.metrics import roc_curve, roc_auc_score\n",
    "from sklearn.metrics import precision_recall_curve, average_precision_score\n",
    "\n",
    "pred_scores = {\n",
    "    'PolyPhen-2' : pph2_predictions['pph2_prob'],\n",
    "    'EV_mutation': - ID['EVmut-DeltaE_epist']\n",
    "}\n",
    "\n",
    "metrics = {}\n",
    "\n",
    "for method, score in pred_scores.items():\n",
    "    # let's discard NaN values\n",
    "    sel = ~np.isnan(score)\n",
    "    predictions = score[sel]\n",
    "    true_labels = ID['true_label'][sel]\n",
    "    \n",
    "    # Rhapsody contains a function for computing ROC, Precision-Recall curves, etc.\n",
    "    m = calcMetrics(true_labels, predictions)\n",
    "    metrics[method] = m\n",
    "    \n",
    "    print(f'{method:11}:', f\"  n.SAVs = {sum(sel)}\", \n",
    "          f\"   AUROC = {m['AUROC']:.3f}\",\n",
    "          f\"   AUPRC = {m['AUPRC']:.3f}\")"
   ]
  },
  {
   "cell_type": "code",
   "execution_count": 15,
   "metadata": {},
   "outputs": [
    {
     "name": "stdout",
     "output_type": "stream",
     "text": [
      "v2         :   n.SAVs = 16443    AUROC = 0.856    AUPRC = 0.921    OOB score = 0.811\n",
      "v2_noPfam  :   n.SAVs = 20190    AUROC = 0.843    AUPRC = 0.904    OOB score = 0.796\n",
      "v2_EVmut   :   n.SAVs = 13033    AUROC = 0.854    AUPRC = 0.936    OOB score = 0.833\n"
     ]
    }
   ],
   "source": [
    "# print summary from Rhapsody training\n",
    "for v, s in RF_training_summaries.items():\n",
    "    print(f'{v:11}:', f\"  n.SAVs = {s['dataset size']}\", \n",
    "          f\"   AUROC = {s['mean AUROC']:.3f}\",\n",
    "          f\"   AUPRC = {s['mean AUPRC']:.3f}\",\n",
    "          f\"   OOB score = {s['mean OOB score']:.3f}\")"
   ]
  },
  {
   "cell_type": "markdown",
   "metadata": {},
   "source": [
    "## Correlation between features"
   ]
  },
  {
   "cell_type": "code",
   "execution_count": 16,
   "metadata": {},
   "outputs": [],
   "source": [
    "from scipy.stats import spearmanr\n",
    "\n",
    "correlations = {}\n",
    "\n",
    "for version in ['v2', 'v2_noPfam', 'v2_EVmut']:\n",
    "\n",
    "    featset = featsets[version]\n",
    "    \n",
    "    X = ID[featset]\n",
    "    sel = [~np.isnan(np.sum([x for x in r])) for r in X]\n",
    "    X = X[sel].copy()\n",
    "    X = X.view((np.float32, len(featset)))\n",
    "    \n",
    "    correlations[version] = spearmanr(X)"
   ]
  },
  {
   "cell_type": "code",
   "execution_count": 17,
   "metadata": {},
   "outputs": [],
   "source": [
    "abbrv = {\n",
    "    'ANM_MSF-chain': 'MSF',\n",
    "    'ANM_effectiveness-chain': 'eff',\n",
    "    'ANM_sensitivity-chain': 'sens',\n",
    "    'BLOSUM': 'BLSM',\n",
    "    'Delta_PSIC': 'DPSIC', \n",
    "    'EVmut-DeltaE_epist': 'EVmut',\n",
    "    'SASA': 'SASA',\n",
    "    'entropy': 'entr',\n",
    "    'ranked_MI': 'MI',\n",
    "    'stiffness-chain': 'stf',\n",
    "    'wt_PSIC': 'wPSIC'}"
   ]
  },
  {
   "cell_type": "code",
   "execution_count": 18,
   "metadata": {},
   "outputs": [
    {
     "data": {
      "image/png": "[encoded data removed]",
      "text/plain": [
       "<Figure size 1080x360 with 3 Axes>"
      ]
     },
     "metadata": {
      "needs_background": "light"
     },
     "output_type": "display_data"
    }
   ],
   "source": [
    "import matplotlib.pyplot as plt\n",
    "\n",
    "\n",
    "fig, axes = plt.subplots(1, 3, figsize=(15, 5))\n",
    "\n",
    "for i, (version, Spearm_res) in enumerate(correlations.items()):\n",
    "    \n",
    "    m = Spearm_res[0]\n",
    "    ax = axes[i]\n",
    "    \n",
    "    im = ax.imshow(abs(m), cmap='hot', vmin=0, vmax=1)\n",
    "    ax.set_title(version)\n",
    "    \n",
    "    # text annotations\n",
    "    n = m.shape[0]\n",
    "    for i in range(n):\n",
    "        for j in range(n):\n",
    "            if i==j: continue\n",
    "            text = ax.text(j, i, f'{m[i, j]:.2f}', ha=\"center\", va=\"center\", \n",
    "                           color=\"w\" if abs(m[i, j])<.5 else \"k\", fontsize='small')\n",
    "    \n",
    "    labels = [abbrv[f] for f in featsets[version]]\n",
    "    ax.set_yticks(range(n))\n",
    "    ax.set_yticklabels(labels)\n",
    "    ax.set_xticks(range(n))\n",
    "    ax.set_xticklabels(labels, rotation='vertical')\n",
    "    \n",
    "plt.tight_layout()\n",
    "fig.savefig('figures/correlation_btw_features.png', dpi=300)"
   ]
  },
  {
   "cell_type": "markdown",
   "metadata": {},
   "source": [
    "## Leave-one-feature-out analysis\n",
    "\n",
    "We can assess the relative importance of each feature by looking at their weights in the random forest. An alternative approach is to cross-validate the classifier by leaving out one feature at a time and measure the effect on accuracy."
   ]
  },
  {
   "cell_type": "code",
   "execution_count": null,
   "metadata": {},
   "outputs": [
    {
     "name": "stderr",
     "output_type": "stream",
     "text": [
      "@> Logging into file: results/LOFO_analysis.log\n",
      "@> Logging started at 2019-03-15 21:21:05.648921\n",
      "@> VERSION: v2 - FEATURE LEFT OUT: wt_PSIC\n",
      "@> 3918 out of 20361 cases ignored with missing features.\n",
      "@> CV iteration # 1:   AUROC = 0.858   AUPRC = 0.918   OOB score = 0.806\n",
      "@> CV iteration # 2:   AUROC = 0.860   AUPRC = 0.921   OOB score = 0.806\n",
      "@> CV iteration # 3:   AUROC = 0.836   AUPRC = 0.907   OOB score = 0.808\n",
      "@> CV iteration # 4:   AUROC = 0.865   AUPRC = 0.926   OOB score = 0.805\n",
      "@> CV iteration # 5:   AUROC = 0.856   AUPRC = 0.925   OOB score = 0.807\n",
      "@> CV iteration # 6:   AUROC = 0.843   AUPRC = 0.916   OOB score = 0.809\n",
      "@> CV iteration # 7:   AUROC = 0.858   AUPRC = 0.924   OOB score = 0.807\n",
      "@> CV iteration # 8:   AUROC = 0.856   AUPRC = 0.923   OOB score = 0.809\n",
      "@> CV iteration # 9:   AUROC = 0.837   AUPRC = 0.903   OOB score = 0.809\n",
      "@> CV iteration #10:   AUROC = 0.838   AUPRC = 0.910   OOB score = 0.811\n",
      "@> ------------------------------------------------------------\n",
      "@> Cross-validation summary:\n",
      "@> training dataset size:   16443\n",
      "@> fraction of positives:   0.690\n",
      "@> mean AUROC:              0.851\n",
      "@> mean AUPRC:              0.917\n",
      "@> mean OOB score:          0.808\n",
      "@> optimal cutoff*:         0.696 +/- 0.039\n",
      "@> (* argmax of Youden's index)\n",
      "@> feature importances:\n",
      "@>              Delta_PSIC: 0.249\n",
      "@>                    SASA: 0.088\n",
      "@>           ANM_MSF-chain: 0.095\n",
      "@> ANM_effectiveness-chain: 0.098\n",
      "@>   ANM_sensitivity-chain: 0.090\n",
      "@>         stiffness-chain: 0.104\n",
      "@>                 entropy: 0.133\n",
      "@>               ranked_MI: 0.089\n",
      "@>                  BLOSUM: 0.053\n",
      "@> ------------------------------------------------------------\n",
      "@> Predictions distribution saved to predictions_distribution.png\n",
      "@> Pathogenicity plot saved to pathogenicity_prob.png\n",
      "@> ROC plot saved to ROC.png\n",
      "@> \n",
      "@> VERSION: v2 - FEATURE LEFT OUT: Delta_PSIC\n",
      "@> 3918 out of 20361 cases ignored with missing features.\n",
      "@> CV iteration # 1:   AUROC = 0.864   AUPRC = 0.926   OOB score = 0.802\n",
      "@> CV iteration # 2:   AUROC = 0.862   AUPRC = 0.929   OOB score = 0.803\n",
      "@> CV iteration # 3:   AUROC = 0.841   AUPRC = 0.915   OOB score = 0.803\n",
      "@> CV iteration # 4:   AUROC = 0.862   AUPRC = 0.928   OOB score = 0.802\n",
      "@> CV iteration # 5:   AUROC = 0.846   AUPRC = 0.923   OOB score = 0.805\n",
      "@> CV iteration # 6:   AUROC = 0.852   AUPRC = 0.924   OOB score = 0.806\n"
     ]
    }
   ],
   "source": [
    "if os.path.isfile('results/LOFO_summaries.pkl'):\n",
    "    print('A pickle containing precomputed results have been found.')\n",
    "    print('Please delete it if you wish to run the analysis again.')\n",
    "else:\n",
    "    LOGGER.start('results/LOFO_analysis.log')\n",
    "    LOFO_summaries = {}\n",
    "\n",
    "    for version in ['v2', 'v2_noPfam', 'v2_EVmut']:\n",
    "        \n",
    "        LOFO_summaries[version] = {}\n",
    "        \n",
    "        featset = featsets[version]\n",
    "\n",
    "        for f_left_out in featset:\n",
    "\n",
    "            _featset = ['SAV_coords', 'true_label'] + [f for f in featset if f != f_left_out]\n",
    "\n",
    "            LOGGER.info(f'VERSION: {version} - FEATURE LEFT OUT: {f_left_out}')\n",
    "\n",
    "            # create folder\n",
    "            folder = f'results/LOFO-{version}-{f_left_out}'\n",
    "            os.mkdir(folder)\n",
    "\n",
    "            # run cross-validation\n",
    "            LOFO_summaries[version][f_left_out] = RandomForestCV(ID[_featset])\n",
    "\n",
    "            # move figures into folder\n",
    "            for file in glob('*png'):\n",
    "                os.rename(file, os.path.join(folder, file))\n",
    "\n",
    "            LOGGER.info('')\n",
    "                    \n",
    "    # store all cross-validation results into a pickle\n",
    "    pickle.dump(LOFO_summaries, open('results/LOFO_summaries.pkl', 'wb'))\n",
    "\n",
    "    LOGGER.close('results/LOFO_analysis.log')"
   ]
  },
  {
   "cell_type": "code",
   "execution_count": null,
   "metadata": {},
   "outputs": [],
   "source": [
    "# recover precomputed results\n",
    "LOFO_summaries = pickle.load(open('results/RF_training_summaries.pkl', 'rb'))"
   ]
  },
  {
   "cell_type": "code",
   "execution_count": null,
   "metadata": {},
   "outputs": [],
   "source": [
    "print('classifier  feat-left-out            n.SAVs AUROC  AUPRC  OOB')\n",
    "for version, d in LOFO_summaries.items():\n",
    "    for feat, s in d.items():\n",
    "        print(f\"{version:10}  {feat:23}  {s['dataset size']}  {s['mean AUROC']:.3f}  \" + \\\n",
    "              f\"{s['mean AUPRC']:.3f}  {s['mean OOB score']:.3f}\" )"
   ]
  },
  {
   "cell_type": "code",
   "execution_count": null,
   "metadata": {},
   "outputs": [],
   "source": []
  }
 ],
 "metadata": {
  "kernelspec": {
   "display_name": "Python 3",
   "language": "python",
   "name": "python3"
  },
  "language_info": {
   "codemirror_mode": {
    "name": "ipython",
    "version": 3
   },
   "file_extension": ".py",
   "mimetype": "text/x-python",
   "name": "python",
   "nbconvert_exporter": "python",
   "pygments_lexer": "ipython3",
   "version": "3.7.2"
  }
 },
 "nbformat": 4,
 "nbformat_minor": 2
}
