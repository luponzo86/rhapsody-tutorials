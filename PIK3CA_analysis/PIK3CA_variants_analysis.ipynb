{
 "cells": [
  {
   "cell_type": "markdown",
   "metadata": {},
   "source": [
    "# Analysis of PIK3CA variants\n",
    "\n",
    "In the following we compare predictions from Rhapsody, PolyPhen-2, EVmutation and other methods on PIK3CA variants presented in:\n",
    "* [Dogruluk T et al, *Identification of Variant-Specific Functions of PIK3CA by Rapid Phenotyping of Rare Mutations*, Cancer Res. (2016)](https://www.ncbi.nlm.nih.gov/pmc/articles/PMC4681596/)\n",
    "* [Zhang Y et al, *A Pan-Cancer Proteogenomic Atlas of PI3K/AKT/mTOR Pathway Alterations*, Cancer Cell (2017)](https://www.sciencedirect.com/science/article/pii/S153561081730168X?via%3Dihub)"
   ]
  },
  {
   "cell_type": "code",
   "execution_count": 1,
   "metadata": {},
   "outputs": [],
   "source": [
    "import sys, os, pickle, csv\n",
    "import numpy as np"
   ]
  },
  {
   "cell_type": "code",
   "execution_count": 4,
   "metadata": {},
   "outputs": [],
   "source": [
    "# Insert here local path to Rhapsody folder\n",
    "sys.path.insert(0, '../../rhapsody/')"
   ]
  },
  {
   "cell_type": "markdown",
   "metadata": {},
   "source": [
    "## Import data from papers"
   ]
  },
  {
   "cell_type": "code",
   "execution_count": 2,
   "metadata": {},
   "outputs": [
    {
     "data": {
      "text/plain": [
       "('Variant',\n",
       " 'COSMIC frequency',\n",
       " 'GF-free survival',\n",
       " 'Insulin-free survival',\n",
       " 'Ba/F3',\n",
       " 'Tumorigenesis',\n",
       " 'Soft agar colonies',\n",
       " 'Condel',\n",
       " 'Condel score',\n",
       " 'PolyPhen',\n",
       " 'PolyPhen score',\n",
       " 'SIFT',\n",
       " 'SIFT score',\n",
       " 'MutationAssessor',\n",
       " 'MutationAssessor score',\n",
       " 'CanDrA+CTS',\n",
       " 'CanDrA+CTS score',\n",
       " 'CanDrA+GEN',\n",
       " 'CanDrA+GEN score',\n",
       " 'CHASM driver score',\n",
       " 'VEST functional score',\n",
       " 'Mutation Taster',\n",
       " 'Mutation Taster score')"
      ]
     },
     "execution_count": 2,
     "metadata": {},
     "output_type": "execute_result"
    }
   ],
   "source": [
    "# precomputed structured array with data from Dogruluk et al.\n",
    "data_Dogruluk = pickle.load(open('Dogruluk_etal-data.pkl', 'rb'))\n",
    "data_Dogruluk.dtype.names"
   ]
  },
  {
   "cell_type": "code",
   "execution_count": 3,
   "metadata": {},
   "outputs": [
    {
     "data": {
      "text/plain": [
       "('Hugo_Symbol',\n",
       " 'AA change',\n",
       " 'Chromosome',\n",
       " 'Start_position',\n",
       " 'Variant_Classification',\n",
       " 'Variant_Type',\n",
       " 'number of samples',\n",
       " 'number of patients',\n",
       " 'Summary pred. functional (no functional assays)',\n",
       " 'Taylor hotspot',\n",
       " 'oncogene',\n",
       " 'Mutation Assessor',\n",
       " 'Additional literature assessment (D. Kwiatkowski)',\n",
       " 'BaF3_Call',\n",
       " 'MCF10A_Call',\n",
       " 'AKT_pS473',\n",
       " 'AKT_pT308',\n",
       " 'MTOR_pS2448',\n",
       " 'P70S6K_pT389',\n",
       " 'S6_pS235S236',\n",
       " 'S6_pS240S244',\n",
       " 'PI3K/AKT sig',\n",
       " 'mTOR sig',\n",
       " 'f23',\n",
       " 'f24')"
      ]
     },
     "execution_count": 3,
     "metadata": {},
     "output_type": "execute_result"
    }
   ],
   "source": [
    "# PIK3CA data from Zhang et al.\n",
    "with open('Zhang_etal-data.csv') as csv_file:\n",
    "    csv_read = list(csv.reader(csv_file))\n",
    "# convert to structured array. Select only PIK3CA missense variants\n",
    "dt = np.dtype([(f, 'U30') for f in csv_read[2]])\n",
    "data_Zhang = np.array([x for x in csv_read if x[0]=='PIK3CA' and x[4]=='Missense_Mutation'], dtype=dt)\n",
    "data_Zhang.dtype.names"
   ]
  },
  {
   "cell_type": "markdown",
   "metadata": {},
   "source": [
    "## Rhapsody"
   ]
  },
  {
   "cell_type": "code",
   "execution_count": 5,
   "metadata": {},
   "outputs": [],
   "source": [
    "from rhapsody import *"
   ]
  },
  {
   "cell_type": "code",
   "execution_count": 9,
   "metadata": {
    "scrolled": true
   },
   "outputs": [],
   "source": [
    "c = pickle.load(open('../RF_training/data/clsf_scheme-150-ANM-chain-v2/trained_classifier.pkl', 'rb'))"
   ]
  },
  {
   "cell_type": "code",
   "execution_count": 13,
   "metadata": {},
   "outputs": [
    {
     "data": {
      "text/plain": [
       "dict_keys(['trained RF', 'features', 'CV summary', 'training dataset'])"
      ]
     },
     "execution_count": 13,
     "metadata": {},
     "output_type": "execute_result"
    }
   ],
   "source": [
    "c.keys()\n"
   ]
  },
  {
   "cell_type": "markdown",
   "metadata": {},
   "source": [
    "It turns out that some mutations are found in the Integrated Dataset, so I should retrain the classifiers. Here however I don't do that (see end of notebook for how to do that)."
   ]
  },
  {
   "cell_type": "markdown",
   "metadata": {},
   "source": [
    "### run rhapsody with different classifiers\n",
    "It computes predictions from Rhapsody (with auxiliary classifier) and Rhapsody combined with EVmutation epistatic score."
   ]
  },
  {
   "cell_type": "raw",
   "metadata": {},
   "source": [
    "import glob\n",
    "\n",
    "path = '/home/lponzoni/Data/016-RAPSODY_v2-integration_with_Prody/workspace/06-rapsody-main/' + \\\n",
    "       '17-improvements/RF_training/#CLSF#/trained_classifier.pkl'"
   ]
  },
  {
   "cell_type": "raw",
   "metadata": {},
   "source": [
    "clsf_1 = path.replace('#CLSF#', 'v2-ANM-chain-150')\n",
    "clsf_2 = path.replace('#CLSF#', 'v2noPfam-ANM-chain-150')\n",
    "r_full = rhapsody('pph2-full.txt', clsf_1, input_type='PP2', aux_classifier=clsf_2)\n",
    "\n",
    "# store results\n",
    "folder = 'results'\n",
    "os.mkdir(folder)\n",
    "for f in glob.glob('rhapsody-*.*'):\n",
    "    os.rename(f, os.path.join(folder, f))"
   ]
  },
  {
   "cell_type": "raw",
   "metadata": {},
   "source": [
    "clsf_EV = path.replace('#CLSF#', 'v2EVmut-ANM-chain-150')\n",
    "clsf_2  = path.replace('#CLSF#', 'v2noPfam-ANM-chain-150')\n",
    "r_EVmut = rhapsody('pph2-full.txt', clsf_EV, input_type='PP2', aux_classifier=clsf_2)\n",
    "\n",
    "# store results\n",
    "folder = 'results-EVmut'\n",
    "os.mkdir(folder)\n",
    "for f in glob.glob('rhapsody-*.*'):\n",
    "    os.rename(f, os.path.join(folder, f))"
   ]
  },
  {
   "cell_type": "markdown",
   "metadata": {},
   "source": [
    "### Active *vs* inactive state\n",
    "Rhapsody automatically maps variants onto PDB `4Q21`, which is the GDP-complexed **inactive** structure. What happens when using the **active** (GTP-bound) structure `6Q21`?"
   ]
  },
  {
   "cell_type": "raw",
   "metadata": {},
   "source": [
    "clsf_1 = path.replace('#CLSF#', 'v2-ANM-chain-150')\n",
    "clsf_2 = path.replace('#CLSF#', 'v2noPfam-ANM-chain-150')\n",
    "r_full = rhapsody('pph2-full.txt', clsf_1, input_type='PP2', aux_classifier=clsf_2, custom_PDB='6Q21')\n",
    "\n",
    "# store results\n",
    "folder = 'results-active_state'\n",
    "os.mkdir(folder)\n",
    "for f in glob.glob('rhapsody-*.*'):\n",
    "    os.rename(f, os.path.join(folder, f))"
   ]
  },
  {
   "cell_type": "code",
   "execution_count": null,
   "metadata": {},
   "outputs": [],
   "source": [
    "r_full   = pickle.load(open('results/rhapsody-pickle.pkl', 'rb'))\n",
    "r_EVmut  = pickle.load(open('results-EVmut/rhapsody-pickle.pkl', 'rb'))\n",
    "r_active = pickle.load(open('results-active_state/rhapsody-pickle.pkl', 'rb'))"
   ]
  },
  {
   "cell_type": "markdown",
   "metadata": {},
   "source": [
    "### Recover  PolyPhen-2  and  EVmutation scores\n",
    "**NB:** I define `EVmut_score` as $- \\Delta$E."
   ]
  },
  {
   "cell_type": "code",
   "execution_count": null,
   "metadata": {},
   "outputs": [],
   "source": [
    "PP2_probs = np.array([float(l['pph2_prob']) for l in r_full.PP2output])\n",
    "PP2_DeltaPSIC = r_full.featMatrix[:,1]\n",
    "EVmut_score = - r_EVmut.featMatrix[:,-1]"
   ]
  },
  {
   "cell_type": "markdown",
   "metadata": {},
   "source": [
    "# Figures\n",
    "### Inactive/active "
   ]
  },
  {
   "cell_type": "code",
   "execution_count": null,
   "metadata": {},
   "outputs": [],
   "source": [
    "from scipy.stats.stats import spearmanr\n",
    "import matplotlib.pyplot as plt\n",
    "plt.rcParams.update({'font.size': 14, 'font.family': 'Arial'})\n",
    "\n",
    "score_inactive = r_full.mixedPreds['score']\n",
    "score_active =   r_active.mixedPreds['score']\n",
    "\n",
    "fig, ax = plt.subplots(figsize=(6,6))\n",
    "ax.scatter(score_inactive, score_active, marker='.')\n",
    "ax.set_xlabel('score for inactive state (PDBID: 4Q21)')\n",
    "ax.set_ylabel('score for active state (PDBID: 6Q21)')\n",
    "\n",
    "sel = np.logical_and(~np.isnan(score_inactive), ~np.isnan(score_active))\n",
    "rho = spearmanr(score_inactive[sel], score_active[sel])[0]\n",
    "\n",
    "s = r'$\\rho$'\n",
    "ax.set_title('RHAPSODY predictions on active/inactive state')\n",
    "ax.text(0.8, 0.1, f'{s} = {rho:5.3f}')\n",
    "\n",
    "fig.tight_layout()\n",
    "plt.savefig(f'figures/active_vs_inactive_correlation.png', dpi=300)"
   ]
  },
  {
   "cell_type": "markdown",
   "metadata": {},
   "source": [
    "### Correlation with experiments"
   ]
  },
  {
   "cell_type": "code",
   "execution_count": null,
   "metadata": {},
   "outputs": [],
   "source": [
    "tables = {}\n",
    "\n",
    "for case, d in data.items():\n",
    "    resids = d[0][1:]\n",
    "    wt_aas = d[1][1:]\n",
    "    table = {}\n",
    "    for line in d[2:]:\n",
    "        mut_aa = line[0]\n",
    "        for i, x in enumerate(line[1:]):\n",
    "            resid = int(resids[i])\n",
    "            wt_aa = wt_aas[i]\n",
    "            table[f'P01112 {resid} {wt_aa} {mut_aa}'] = float(x)\n",
    "    tables[case] = table"
   ]
  },
  {
   "cell_type": "code",
   "execution_count": null,
   "metadata": {},
   "outputs": [],
   "source": [
    "SAV_coords = r_full.SAVcoords['text']\n",
    "\n",
    "exp_scores = {}\n",
    "for case, table in tables.items():\n",
    "    a = np.zeros(len(SAV_coords))\n",
    "    a[:] = np.nan\n",
    "    for i, SAV in enumerate(SAV_coords):\n",
    "        if SAV in table:\n",
    "            a[i] = table[SAV]\n",
    "    exp_scores[case] = a"
   ]
  },
  {
   "cell_type": "code",
   "execution_count": null,
   "metadata": {},
   "outputs": [],
   "source": [
    "exp_scores"
   ]
  },
  {
   "cell_type": "code",
   "execution_count": null,
   "metadata": {},
   "outputs": [],
   "source": [
    "from scipy.stats.stats import spearmanr\n",
    "import matplotlib.pyplot as plt\n",
    "plt.rcParams.update({'font.size': 13, 'font.family': 'Arial'})\n",
    "\n",
    "rhaps_score = r_full.mixedPreds['score']\n",
    "rhaps_score_act = r_active.mixedPreds['score']\n",
    "avg_rhaps_score = np.mean(rhaps_score.reshape((-1, 19)), axis=1)\n",
    "avg_rhaps_score_act = np.mean(rhaps_score_act.reshape((-1, 19)), axis=1)\n",
    "avg_EVmut_score = np.mean(EVmut_score.reshape((-1, 19)), axis=1)\n",
    "avg_PP2_probs   = np.mean(PP2_probs.reshape((-1, 19)),   axis=1)\n",
    "\n",
    "for case, exp_score in exp_scores.items():\n",
    "    \n",
    "    avg_exp_score = np.mean(exp_score.reshape((-1, 19)), axis=1)\n",
    "    \n",
    "    fig, (ax1, ax2, ax3, ax4) = plt.subplots(1, 4, figsize=(15,4))\n",
    "    ax1.scatter(exp_score, rhaps_score, marker='.')\n",
    "    ax2.scatter(exp_score, rhaps_score_act, marker='.')\n",
    "    ax3.scatter(exp_score, EVmut_score, marker='.')\n",
    "    ax4.scatter(exp_score, PP2_probs, marker='.')\n",
    "    ax1.scatter(avg_exp_score, avg_rhaps_score, marker='.', c='r')\n",
    "    ax2.scatter(avg_exp_score, avg_rhaps_score_act, marker='.', c='r')\n",
    "    ax3.scatter(avg_exp_score, avg_EVmut_score, marker='.', c='r')\n",
    "    ax4.scatter(avg_exp_score, avg_PP2_probs,   marker='.', c='r')    \n",
    "    ax1.set_ylabel('RHAPSODY (inactive state)')\n",
    "    ax2.set_ylabel('RHAPSODY (active state)')\n",
    "    ax3.set_ylabel('EVmutation')\n",
    "    ax4.set_ylabel('PolyPhen-2')\n",
    "\n",
    "    rho = []\n",
    "    for i,s in enumerate([rhaps_score, rhaps_score_act, EVmut_score, PP2_probs]):\n",
    "        sel = np.logical_and(~np.isnan(exp_score), ~np.isnan(s))\n",
    "        rho.append( spearmanr(exp_score[sel], s[sel])[0] )\n",
    "    rho_av = []\n",
    "    for i,s in enumerate([avg_rhaps_score, avg_rhaps_score_act, avg_EVmut_score, avg_PP2_probs]):\n",
    "        sel = np.logical_and(~np.isnan(avg_exp_score), ~np.isnan(s))\n",
    "        rho_av.append( spearmanr(avg_exp_score[sel], s[sel])[0] )\n",
    "    \n",
    "    s1 = r'$\\rho$'\n",
    "    s2 = r'$\\rho_{av}$'\n",
    "    c  = case.split('_')[0]\n",
    "    ax1.set_title(f'{c}: {s1}={rho[0]:5.2f}, {s2}={rho_av[0]:5.2f}')\n",
    "    ax2.set_title(f'{c}: {s1}={rho[1]:5.2f}, {s2}={rho_av[1]:5.2f}')\n",
    "    ax3.set_title(f'{c}: {s1}={rho[2]:5.2f}, {s2}={rho_av[2]:5.2f}')\n",
    "    ax4.set_title(f'{c}: {s1}={rho[3]:5.2f}, {s2}={rho_av[3]:5.2f}')\n",
    "    for ax in (ax1, ax2, ax3, ax4):\n",
    "        ax.set_xlim((-1.2, 0.7))\n",
    "        ax.set_xlabel('exp. ΔE')\n",
    "    fig.tight_layout()\n",
    "    plt.savefig(f'figures/correlation-{case}.png', dpi=300)"
   ]
  },
  {
   "cell_type": "markdown",
   "metadata": {},
   "source": [
    "### Mutagenesis table - inactive state\n",
    "We would like to generate a 20xN matrix (where N is the number of residues) of pathogenicity scores, and take averages of each column, and compare with data on the effect of certain positions in function, multimerization etc."
   ]
  },
  {
   "cell_type": "code",
   "execution_count": null,
   "metadata": {},
   "outputs": [],
   "source": [
    "JoptEV = 4.551"
   ]
  },
  {
   "cell_type": "code",
   "execution_count": null,
   "metadata": {},
   "outputs": [],
   "source": [
    "probs_full   = r_full.predictions['path. probability']\n",
    "probs_noPfam = r_full.auxPreds['path. probability']\n",
    "probs_mixed  = r_full.mixedPreds['path. probability']"
   ]
  },
  {
   "cell_type": "code",
   "execution_count": null,
   "metadata": {},
   "outputs": [],
   "source": [
    "# create empty (20 x num_res) table\n",
    "num_res = r_full.SAVcoords['pos'][-1]\n",
    "mut_table = np.zeros((20, num_res), dtype=float)\n",
    "mut_table[:] = 'nan'\n",
    "mut_table.shape"
   ]
  },
  {
   "cell_type": "code",
   "execution_count": null,
   "metadata": {},
   "outputs": [],
   "source": [
    "# fill table with predicted probability:\n",
    "#      1: deleterious\n",
    "#      0: neutral\n",
    "# 'nan' : no prediction/wt\n",
    "aa_list = 'ACDEFGHIKLMNPQRSTVWY'\n",
    "aa_map  = {aa: i for i, aa in enumerate(aa_list)}\n",
    "for i, SAV in enumerate(r_full.SAVcoords):\n",
    "    mut_table[aa_map[SAV['aa_mut']], SAV['pos']-1] = probs_mixed[i]"
   ]
  },
  {
   "cell_type": "code",
   "execution_count": null,
   "metadata": {
    "scrolled": true
   },
   "outputs": [],
   "source": [
    "# profile of average pathogenicity\n",
    "_m = probs_mixed.reshape((-1, 19)).T\n",
    "avg_profile = np.nanmean(_m, axis=0)\n",
    "min_profile = np.nanmin( _m, axis=0)\n",
    "max_profile = np.nanmax( _m, axis=0)\n",
    "# average profile where all features are available\n",
    "_m = probs_full.reshape((-1, 19)).T\n",
    "avg_profile_full = np.nanmean(_m, axis=0)"
   ]
  },
  {
   "cell_type": "code",
   "execution_count": null,
   "metadata": {},
   "outputs": [],
   "source": [
    "# normalize EVmutation score (i.e. -ΔE) so that wt=0 and max=100 \n",
    "# then compute the average over 19 variants\n",
    "_m = EVmut_score.reshape((-1, 19)).T\n",
    "avg_EVmut_score = np.nanmean(_m, axis=0)/np.nanmax(EVmut_score)\n",
    "print('range: {:5.3f} {:5.3f}'.format(np.nanmin(avg_EVmut_score), np.nanmax(avg_EVmut_score)))"
   ]
  },
  {
   "cell_type": "code",
   "execution_count": null,
   "metadata": {
    "scrolled": true
   },
   "outputs": [],
   "source": [
    "# BETTER: Normalize EVmutation score so that the optimal cutoff is mapped to 0.5\n",
    "_m = EVmut_score.reshape((-1, 19)).T\n",
    "avg_EVmut_score = np.nanmean(_m, axis=0)/JoptEV*.5\n",
    "print('range: {:5.3f} {:5.3f}'.format(np.nanmin(avg_EVmut_score), np.nanmax(avg_EVmut_score)))"
   ]
  },
  {
   "cell_type": "code",
   "execution_count": null,
   "metadata": {},
   "outputs": [],
   "source": [
    "# compute Spearman corr. coeff. between rhapsody and EVmutation\n",
    "sel = np.logical_and(~np.isnan(avg_EVmut_score), ~np.isnan(avg_profile))\n",
    "rho = spearmanr(avg_EVmut_score[sel], avg_profile[sel])[0]"
   ]
  },
  {
   "cell_type": "code",
   "execution_count": null,
   "metadata": {},
   "outputs": [],
   "source": [
    "PDB_lengths = [int(t[2][4]) if isinstance(t[2], tuple) else np.nan for t in r_full.Uniprot2PDBmap]"
   ]
  },
  {
   "cell_type": "code",
   "execution_count": null,
   "metadata": {},
   "outputs": [],
   "source": [
    "upper_strip = np.zeros((2, mut_table.shape[1]))\n",
    "upper_strip[:] = np.nan\n",
    "upper_strip[0,:] = np.array(PDB_lengths).reshape((-1, 19))[:,0]"
   ]
  },
  {
   "cell_type": "code",
   "execution_count": null,
   "metadata": {
    "scrolled": false
   },
   "outputs": [],
   "source": [
    "import matplotlib\n",
    "import matplotlib.pyplot as plt\n",
    "import matplotlib.gridspec as gridspec\n",
    "\n",
    "plt.rcParams.update({'font.size': 22, 'font.family': 'Arial'})\n",
    "\n",
    "# portions of the sequence to display\n",
    "min_resid = np.where(~np.isnan(avg_profile))[0][0]  + 1\n",
    "max_resid = np.where(~np.isnan(avg_profile))[0][-1] + 1\n",
    "third = int((max_resid - min_resid)/3) + 1\n",
    "segments = {\n",
    "#              'whole'      : (min_resid, max_resid),\n",
    "             'whole'      : (2, 166),\n",
    "}\n",
    "\n",
    "for seg, (res_i, res_f) in segments.items():\n",
    "\n",
    "    fig, ax = plt.subplots(3, 2, figsize=(25,8))\n",
    "    plt.subplots_adjust(wspace=0.025, hspace=0.15)\n",
    "\n",
    "    # figure structure\n",
    "    gs = gridspec.GridSpec(3, 2, width_ratios=[100, 1], height_ratios=[1, 20, 10])\n",
    "    ax0  = plt.subplot(gs[0, 0]) # secondary structure strip\n",
    "    ax1  = plt.subplot(gs[1, 0]) # mutagenesis table\n",
    "    axcb = plt.subplot(gs[1, 1]) # colorbar\n",
    "    ax2  = plt.subplot(gs[2, 0]) # average profile\n",
    "\n",
    "    # secondary structure strip\n",
    "#     ax0.imshow(upper_strip[:, res_i-1:res_f], aspect='auto', cmap='gist_rainbow')\n",
    "    ax0.imshow(upper_strip[:, res_i-1:res_f], aspect='auto', cmap='cividis_r')\n",
    "    ax0.set_ylim((-0.45, .45))\n",
    "    ax0.set_yticks([])\n",
    "    ax0.set_xticks([])\n",
    "    \n",
    "    # mutagenesis table (heatmap)\n",
    "    matplotlib.cm.coolwarm.set_bad(color='white')\n",
    "    im = ax1.imshow(mut_table[:, res_i-1:res_f], aspect='auto', cmap='coolwarm')\n",
    "    axcb.figure.colorbar(im, cax=axcb)\n",
    "    ax1.set_yticks(np.arange(len(aa_list)))\n",
    "    ax1.set_yticklabels(aa_list, ha='center', position=(-.01,0), fontsize=14)\n",
    "    ax1.set_xticks(np.arange(50-res_i%50, res_f-res_i+10, 50))\n",
    "    ax1.set_xticklabels([])\n",
    "    ax1.set_ylabel('pathog. probability', labelpad=10)\n",
    "\n",
    "    # average pathogenicity profile\n",
    "    x_resids = np.arange(1, len(avg_profile)+1)\n",
    "    # cutoff line\n",
    "    ax2.hlines(0.5, -.5, len(avg_profile)+.5, colors='grey', lw=.8, linestyle='dashed')\n",
    "    # solid line for predictions obtained with full classifier\n",
    "    ax2.plot(x_resids, avg_profile_full, color='red')\n",
    "    # dotted line for predictions obtained with reduced classifier, without Pfam features\n",
    "    _p = np.where(np.isnan(avg_profile_full), avg_profile, avg_profile_full)\n",
    "    ax2.plot(x_resids, _p, color='red', ls='dotted')\n",
    "    # shading showing range of values\n",
    "    ax2.fill_between(x_resids, min_profile, max_profile, alpha=0.5, edgecolor='white', facecolor='salmon')\n",
    "    # EVmutation profile\n",
    "    ax2.plot(x_resids, avg_EVmut_score, color='blue', lw=.5)\n",
    "\n",
    "    ax2.text(res_i, 0.05, r'$\\rho=${:4.2f}'.format(rho), fontsize=15)\n",
    "    ax2.set_xlim((res_i-.5, res_f+.5))\n",
    "    ax2.set_xlabel('residue number')\n",
    "    ax2.set_ylim((0, 1))\n",
    "    ax2.set_ylabel('average', rotation=90, labelpad=10)\n",
    "    ax2.set_yticklabels([])\n",
    "    ax2r = ax2.twinx()\n",
    "    ax2r.set_yticks([0, .5, 1])\n",
    "    ax2r.set_yticklabels(['0', '0.5', '1'])\n",
    "    ax2r.tick_params(axis='both', which='major', pad=15)\n",
    "    \n",
    "    # fig.tight_layout()\n",
    "    plt.show()\n",
    "    fig.savefig('figures/mutagenesis_table-inactive.png', dpi=300)"
   ]
  },
  {
   "cell_type": "markdown",
   "metadata": {},
   "source": [
    "### Mutagenesis table - active state\n",
    "We would like to generate a 20xN matrix (where N is the number of residues) of pathogenicity scores, and take averages of each column, and compare with data on the effect of certain positions in function, multimerization etc."
   ]
  },
  {
   "cell_type": "code",
   "execution_count": null,
   "metadata": {},
   "outputs": [],
   "source": [
    "JoptEV = 4.551"
   ]
  },
  {
   "cell_type": "code",
   "execution_count": null,
   "metadata": {},
   "outputs": [],
   "source": [
    "probs_full   = r_active.predictions['path. probability']\n",
    "probs_noPfam = r_active.auxPreds['path. probability']\n",
    "probs_mixed  = r_active.mixedPreds['path. probability']"
   ]
  },
  {
   "cell_type": "code",
   "execution_count": null,
   "metadata": {},
   "outputs": [],
   "source": [
    "# create empty (20 x num_res) table\n",
    "num_res = r_full.SAVcoords['pos'][-1]\n",
    "mut_table = np.zeros((20, num_res), dtype=float)\n",
    "mut_table[:] = 'nan'\n",
    "mut_table.shape"
   ]
  },
  {
   "cell_type": "code",
   "execution_count": null,
   "metadata": {},
   "outputs": [],
   "source": [
    "# fill table with predicted probability:\n",
    "#      1: deleterious\n",
    "#      0: neutral\n",
    "# 'nan' : no prediction/wt\n",
    "aa_list = 'ACDEFGHIKLMNPQRSTVWY'\n",
    "aa_map  = {aa: i for i, aa in enumerate(aa_list)}\n",
    "for i, SAV in enumerate(r_full.SAVcoords):\n",
    "    mut_table[aa_map[SAV['aa_mut']], SAV['pos']-1] = probs_mixed[i]"
   ]
  },
  {
   "cell_type": "code",
   "execution_count": null,
   "metadata": {
    "scrolled": true
   },
   "outputs": [],
   "source": [
    "# profile of average pathogenicity\n",
    "_m = probs_mixed.reshape((-1, 19)).T\n",
    "avg_profile = np.nanmean(_m, axis=0)\n",
    "min_profile = np.nanmin( _m, axis=0)\n",
    "max_profile = np.nanmax( _m, axis=0)\n",
    "# average profile where all features are available\n",
    "_m = probs_full.reshape((-1, 19)).T\n",
    "avg_profile_full = np.nanmean(_m, axis=0)"
   ]
  },
  {
   "cell_type": "code",
   "execution_count": null,
   "metadata": {},
   "outputs": [],
   "source": [
    "# normalize EVmutation score (i.e. -ΔE) so that wt=0 and max=100 \n",
    "# then compute the average over 19 variants\n",
    "_m = EVmut_score.reshape((-1, 19)).T\n",
    "avg_EVmut_score = np.nanmean(_m, axis=0)/np.nanmax(EVmut_score)\n",
    "print('range: {:5.3f} {:5.3f}'.format(np.nanmin(avg_EVmut_score), np.nanmax(avg_EVmut_score)))"
   ]
  },
  {
   "cell_type": "code",
   "execution_count": null,
   "metadata": {
    "scrolled": true
   },
   "outputs": [],
   "source": [
    "# BETTER: Normalize EVmutation score so that the optimal cutoff is mapped to 0.5\n",
    "_m = EVmut_score.reshape((-1, 19)).T\n",
    "avg_EVmut_score = np.nanmean(_m, axis=0)/JoptEV*.5\n",
    "print('range: {:5.3f} {:5.3f}'.format(np.nanmin(avg_EVmut_score), np.nanmax(avg_EVmut_score)))"
   ]
  },
  {
   "cell_type": "code",
   "execution_count": null,
   "metadata": {},
   "outputs": [],
   "source": [
    "# compute Spearman corr. coeff. between rhapsody and EVmutation\n",
    "sel = np.logical_and(~np.isnan(avg_EVmut_score), ~np.isnan(avg_profile))\n",
    "rho = spearmanr(avg_EVmut_score[sel], avg_profile[sel])[0]"
   ]
  },
  {
   "cell_type": "code",
   "execution_count": null,
   "metadata": {},
   "outputs": [],
   "source": [
    "PDB_lengths = [int(t[2][4]) if isinstance(t[2], tuple) else np.nan for t in r_full.Uniprot2PDBmap]"
   ]
  },
  {
   "cell_type": "code",
   "execution_count": null,
   "metadata": {},
   "outputs": [],
   "source": [
    "upper_strip = np.zeros((2, mut_table.shape[1]))\n",
    "upper_strip[:] = np.nan\n",
    "upper_strip[0,:] = np.array(PDB_lengths).reshape((-1, 19))[:,0]"
   ]
  },
  {
   "cell_type": "code",
   "execution_count": null,
   "metadata": {
    "scrolled": false
   },
   "outputs": [],
   "source": [
    "import matplotlib\n",
    "import matplotlib.pyplot as plt\n",
    "import matplotlib.gridspec as gridspec\n",
    "\n",
    "plt.rcParams.update({'font.size': 22, 'font.family': 'Arial'})\n",
    "\n",
    "# portions of the sequence to display\n",
    "min_resid = np.where(~np.isnan(avg_profile))[0][0]  + 1\n",
    "max_resid = np.where(~np.isnan(avg_profile))[0][-1] + 1\n",
    "third = int((max_resid - min_resid)/3) + 1\n",
    "segments = {\n",
    "#              'whole'      : (min_resid, max_resid),\n",
    "             'whole'      : (2, 166),\n",
    "}\n",
    "\n",
    "for seg, (res_i, res_f) in segments.items():\n",
    "\n",
    "    fig, ax = plt.subplots(3, 2, figsize=(25,8))\n",
    "    plt.subplots_adjust(wspace=0.025, hspace=0.15)\n",
    "\n",
    "    # figure structure\n",
    "    gs = gridspec.GridSpec(3, 2, width_ratios=[100, 1], height_ratios=[1, 20, 10])\n",
    "    ax0  = plt.subplot(gs[0, 0]) # secondary structure strip\n",
    "    ax1  = plt.subplot(gs[1, 0]) # mutagenesis table\n",
    "    axcb = plt.subplot(gs[1, 1]) # colorbar\n",
    "    ax2  = plt.subplot(gs[2, 0]) # average profile\n",
    "\n",
    "    # secondary structure strip\n",
    "#     ax0.imshow(upper_strip[:, res_i-1:res_f], aspect='auto', cmap='gist_rainbow')\n",
    "    ax0.imshow(upper_strip[:, res_i-1:res_f], aspect='auto', cmap='cividis_r')\n",
    "    ax0.set_ylim((-0.45, .45))\n",
    "    ax0.set_yticks([])\n",
    "    ax0.set_xticks([])\n",
    "    \n",
    "    # mutagenesis table (heatmap)\n",
    "    matplotlib.cm.coolwarm.set_bad(color='white')\n",
    "    im = ax1.imshow(mut_table[:, res_i-1:res_f], aspect='auto', cmap='coolwarm')\n",
    "    axcb.figure.colorbar(im, cax=axcb)\n",
    "    ax1.set_yticks(np.arange(len(aa_list)))\n",
    "    ax1.set_yticklabels(aa_list, ha='center', position=(-.01,0), fontsize=14)\n",
    "    ax1.set_xticks(np.arange(50-res_i%50, res_f-res_i+10, 50))\n",
    "    ax1.set_xticklabels([])\n",
    "    ax1.set_ylabel('pathog. probability', labelpad=10)\n",
    "\n",
    "    # average pathogenicity profile\n",
    "    x_resids = np.arange(1, len(avg_profile)+1)\n",
    "    # cutoff line\n",
    "    ax2.hlines(0.5, -.5, len(avg_profile)+.5, colors='grey', lw=.8, linestyle='dashed')\n",
    "    # solid line for predictions obtained with full classifier\n",
    "    ax2.plot(x_resids, avg_profile_full, color='red')\n",
    "    # dotted line for predictions obtained with reduced classifier, without Pfam features\n",
    "    _p = np.where(np.isnan(avg_profile_full), avg_profile, avg_profile_full)\n",
    "    ax2.plot(x_resids, _p, color='red', ls='dotted')\n",
    "    # shading showing range of values\n",
    "    ax2.fill_between(x_resids, min_profile, max_profile, alpha=0.5, edgecolor='white', facecolor='salmon')\n",
    "    # EVmutation profile\n",
    "    ax2.plot(x_resids, avg_EVmut_score, color='blue', lw=.5)\n",
    "\n",
    "    ax2.text(res_i, 0.05, r'$\\rho=${:4.2f}'.format(rho), fontsize=15)\n",
    "    ax2.set_xlim((res_i-.5, res_f+.5))\n",
    "    ax2.set_xlabel('residue number')\n",
    "    ax2.set_ylim((0, 1))\n",
    "    ax2.set_ylabel('average', rotation=90, labelpad=10)\n",
    "    ax2.set_yticklabels([])\n",
    "    ax2r = ax2.twinx()\n",
    "    ax2r.set_yticks([0, .5, 1])\n",
    "    ax2r.set_yticklabels(['0', '0.5', '1'])\n",
    "    ax2r.tick_params(axis='both', which='major', pad=15)\n",
    "    \n",
    "    # fig.tight_layout()\n",
    "    plt.show()\n",
    "    fig.savefig('figures/mutagenesis_table-active.png', dpi=300)"
   ]
  },
  {
   "cell_type": "markdown",
   "metadata": {},
   "source": [
    "### average profiles on PDB structures"
   ]
  },
  {
   "cell_type": "code",
   "execution_count": null,
   "metadata": {
    "scrolled": true
   },
   "outputs": [],
   "source": [
    "import numpy as np\n",
    "from prody import *\n",
    "\n",
    "_p = r_active.mixedPreds['path. probability']\n",
    "_m = _p.reshape((-1, 19)).T\n",
    "avg_prof_active = np.nanmean(_m, axis=0)\n",
    "_p = r_full.mixedPreds['path. probability']\n",
    "_m = _p.reshape((-1, 19)).T\n",
    "avg_prof_inactive = np.nanmean(_m, axis=0)\n",
    "diff = avg_prof_active - avg_prof_inactive\n",
    "resids = r_active.SAVcoords['pos'].reshape((-1, 19)).T[0]\n",
    "\n",
    "print(len(avg_prof_active))\n",
    "print(len(avg_prof_inactive))"
   ]
  },
  {
   "cell_type": "code",
   "execution_count": null,
   "metadata": {},
   "outputs": [],
   "source": [
    "pdb_active   = parsePDB('6q21', chain='A').select('protein and resid 2 to 166')\n",
    "pdb_inactive = parsePDB('4q21', chain='A').select('protein and resid 2 to 166')\n",
    "print(pdb_active.ca.numAtoms())\n",
    "print(pdb_inactive.ca.numAtoms())"
   ]
  },
  {
   "cell_type": "code",
   "execution_count": null,
   "metadata": {},
   "outputs": [],
   "source": [
    "# replace the B-factor column in chain A with the predictions\n",
    "PDBresnums = pdb_active.getResnums()\n",
    "new_betas = np.zeros_like(PDBresnums, dtype=float)\n",
    "new_betas_diff = np.zeros_like(PDBresnums, dtype=float)\n",
    "for resid, prob, d in zip(resids, avg_prof_active, diff):\n",
    "    new_betas[PDBresnums==int(resid)] = prob\n",
    "    new_betas_diff[PDBresnums==int(resid)] = d\n",
    "# write modified PDB\n",
    "pdb_active.setBetas(new_betas)\n",
    "f = writePDB('figures/mapped_active', pdb_active)\n",
    "pdb_active.setBetas(new_betas_diff)\n",
    "f = writePDB('figures/mapped_active_diff', pdb_active)"
   ]
  },
  {
   "cell_type": "code",
   "execution_count": null,
   "metadata": {},
   "outputs": [],
   "source": [
    "# replace the B-factor column in chain A with the predictions\n",
    "PDBresnums = pdb_inactive.getResnums()\n",
    "new_betas = np.zeros_like(PDBresnums, dtype=float)\n",
    "new_betas_diff = np.zeros_like(PDBresnums, dtype=float)\n",
    "for resid, prob, d in zip(resids, avg_prof_inactive, diff):\n",
    "    new_betas[PDBresnums==int(resid)] = prob\n",
    "    try:\n",
    "        new_betas_diff[PDBresnums==int(resid)] = d\n",
    "    except:\n",
    "        pass\n",
    "# write modified PDB\n",
    "pdb_inactive.setBetas(new_betas)\n",
    "f = writePDB('figures/mapped_inactive', pdb_inactive)\n",
    "pdb_inactive.setBetas(new_betas_diff)\n",
    "f = writePDB('figures/mapped_inactive_diff', pdb_inactive)"
   ]
  },
  {
   "cell_type": "code",
   "execution_count": null,
   "metadata": {},
   "outputs": [],
   "source": [
    "plt.hist(diff[~np.isnan(diff)])"
   ]
  },
  {
   "cell_type": "code",
   "execution_count": null,
   "metadata": {},
   "outputs": [],
   "source": [
    "sel = ~np.isnan(diff)\n",
    "_diff   = diff[sel]\n",
    "_resids = resids[sel]\n",
    "_resids[np.argsort(-_diff)][:5]"
   ]
  },
  {
   "cell_type": "markdown",
   "metadata": {},
   "source": [
    "# Predictions on known variants"
   ]
  },
  {
   "cell_type": "code",
   "execution_count": null,
   "metadata": {},
   "outputs": [],
   "source": [
    "sel = r_full.predictions['training info'] != 'new'\n",
    "print(r_full.predictions[sel])"
   ]
  },
  {
   "cell_type": "code",
   "execution_count": null,
   "metadata": {},
   "outputs": [],
   "source": [
    "np.nanstd(diff)"
   ]
  },
  {
   "cell_type": "code",
   "execution_count": null,
   "metadata": {},
   "outputs": [],
   "source": [
    "diff[np.isnan(diff)]"
   ]
  },
  {
   "cell_type": "code",
   "execution_count": null,
   "metadata": {},
   "outputs": [],
   "source": []
  },
  {
   "cell_type": "markdown",
   "metadata": {},
   "source": [
    "### Training of unbiased classifiers"
   ]
  },
  {
   "cell_type": "raw",
   "metadata": {},
   "source": [
    "ID = pickle.load(open('../17-improvements/ID_struct_array-all_features.pkl', 'rb'))\n",
    "\n",
    "known_SAVs = []\n",
    "for l in ID:\n",
    "    SAV = l['SAV_coords']\n",
    "    if SAV.startswith('P00533'):\n",
    "        t = (SAV, l['true_label'], l['Uniprot2PDB'])\n",
    "        known_SAVs.append(t)\n",
    "        print('{:16}  {}  {}'.format(*t))"
   ]
  },
  {
   "cell_type": "raw",
   "metadata": {},
   "source": [
    "m = ID[~np.isnan(ID['PDB_length'])]\n",
    "print(len(m))\n",
    "m = m[m['PDB_length']>=150]\n",
    "print(len(m))\n",
    "feat_matrix = m[[not s.startswith('P00533') for s in m['SAV_coords']]]\n",
    "print(len(feat_matrix))"
   ]
  },
  {
   "cell_type": "raw",
   "metadata": {},
   "source": [
    "from RFtraining import *\n",
    "\n",
    "for version in ['v2', 'v2noPfam', 'v2EVmut']:\n",
    "    for model in ['chain', 'reduced']:\n",
    "        print(f'{version}-{model}')\n",
    "        folder = f'RF_training-{version}-ANM-{model}-150'\n",
    "        os.mkdir(folder)\n",
    "        featset = ['true_label', 'SAV_coords', 'Uniprot2PDB',\n",
    "                   'wt_PSIC', 'Delta_PSIC', 'SASA', \n",
    "                   f'ANM_MSF-{model}', f'ANM_effectiveness-{model}',\n",
    "                   f'ANM_sensitivity-{model}', f'stiffness-{model}']\n",
    "        if version == 'v2':\n",
    "            featset += ['entropy', 'ranked_MI', 'BLOSUM']\n",
    "        elif version == 'v2noPfam':\n",
    "            featset += ['BLOSUM']\n",
    "        elif version == 'v2EVmut':\n",
    "            featset += ['entropy', 'ranked_MI', 'BLOSUM', 'EVmut-DeltaE_epist']\n",
    "        clsf = trainRFclassifier(feat_matrix[featset])\n",
    "        # store results\n",
    "        for f in ['predictions_distribution.pdf', 'pathogenicity_prob.pdf',\n",
    "                  'ROC.pdf', 'feat_importances.pdf', 'trained_classifier.pkl']:\n",
    "            os.rename(f, '{}/{}'.format(folder, f))"
   ]
  }
 ],
 "metadata": {
  "kernelspec": {
   "display_name": "Python 3",
   "language": "python",
   "name": "python3"
  },
  "language_info": {
   "codemirror_mode": {
    "name": "ipython",
    "version": 3
   },
   "file_extension": ".py",
   "mimetype": "text/x-python",
   "name": "python",
   "nbconvert_exporter": "python",
   "pygments_lexer": "ipython3",
   "version": "3.7.2"
  }
 },
 "nbformat": 4,
 "nbformat_minor": 2
}
