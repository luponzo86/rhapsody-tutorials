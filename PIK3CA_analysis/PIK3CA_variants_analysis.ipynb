{
 "cells": [
  {
   "cell_type": "markdown",
   "metadata": {},
   "source": [
    "# Analysis of PIK3CA variants\n",
    "\n",
    "In the following we compare predictions from Rhapsody, PolyPhen-2, EVmutation and other methods on PIK3CA variants presented in:\n",
    "* [Dogruluk T et al, *Identification of Variant-Specific Functions of PIK3CA by Rapid Phenotyping of Rare Mutations*, Cancer Res. (2016)](https://www.ncbi.nlm.nih.gov/pmc/articles/PMC4681596/)\n",
    "* [Zhang Y et al, *A Pan-Cancer Proteogenomic Atlas of PI3K/AKT/mTOR Pathway Alterations*, Cancer Cell (2017)](https://www.sciencedirect.com/science/article/pii/S153561081730168X?via%3Dihub)"
   ]
  },
  {
   "cell_type": "code",
   "execution_count": 1,
   "metadata": {},
   "outputs": [],
   "source": [
    "import sys, os, pickle, csv, glob\n",
    "import numpy as np"
   ]
  },
  {
   "cell_type": "code",
   "execution_count": 2,
   "metadata": {},
   "outputs": [],
   "source": [
    "# Insert here local path to Rhapsody folder\n",
    "sys.path.insert(0, '../../rhapsody/')"
   ]
  },
  {
   "cell_type": "markdown",
   "metadata": {},
   "source": [
    "## Re-training of unbiased classifier\n",
    "\n",
    "A few PIK3CA mutations are found in the Integrated Dataset used for training. In order to get completely unbiased predictions, we will retrain a classifier by excluding those variants from the training dataset.\n",
    "\n",
    "**NB:** The Uniprot names for gene PIK3CA are `P42336` or `PK3CA_HUMAN`."
   ]
  },
  {
   "cell_type": "code",
   "execution_count": 3,
   "metadata": {},
   "outputs": [],
   "source": [
    "from rhapsody import *"
   ]
  },
  {
   "cell_type": "code",
   "execution_count": 4,
   "metadata": {},
   "outputs": [
    {
     "name": "stdout",
     "output_type": "stream",
     "text": [
      "40 known deleterious PIK3CA SAVs:\n",
      "['P42336 542 E K', 'P42336 545 E K', 'P42336 545 E G', 'P42336 1047 H R', 'P42336 1065 H Y', 'P42336 546 Q P', 'P42336 343 Y C', 'P42336 1021 Y H', 'P42336 1050 G D', 'P42336 1052 T K', 'P42336 1065 H L', 'P42336 1021 Y N', 'P42336 1025 T N', 'P42336 453 E Q', 'P42336 1023 R Q', 'P42336 542 E V', 'P42336 546 Q R', 'P42336 365 E K', 'P42336 378 C Y', 'P42336 726 E K', 'P42336 1025 T A', 'P42336 1035 A V', 'P42336 135 E K', 'P42336 218 E K', 'P42336 356 V I', 'P42336 38 R H', 'P42336 106 G V', 'P42336 81 E K', 'P42336 88 R Q', 'P42336 420 C R', 'P42336 545 E A', 'P42336 1021 Y C', 'P42336 1043 M I', 'P42336 1047 H Y', 'P42336 364 G R', 'P42336 914 G R', 'P42336 1049 G S', 'P42336 118 G D', 'P42336 382 R K', 'P42336 112 I N']\n",
      "\n",
      "3 known neutral PIK3CA SAVs:\n",
      "['P42336 391 I M', 'P42336 43 I V', 'P42336 332 S R']\n"
     ]
    }
   ],
   "source": [
    "ID = pickle.load(open('../RF_training/Integrated_Dataset.pkl', 'rb'))\n",
    "\n",
    "ID_del = ID[ID['true_label']==1]\n",
    "ID_neu = ID[ID['true_label']==0]\n",
    "\n",
    "known_del_SAVs = [SAV['SAV_coords'] for SAV in ID_del if SAV['SAV_coords'].startswith('P42336')]\n",
    "known_neu_SAVs = [SAV['SAV_coords'] for SAV in ID_neu if SAV['SAV_coords'].startswith('P42336')]\n",
    "\n",
    "print(f'{len(known_del_SAVs)} known deleterious PIK3CA SAVs:')\n",
    "print(known_del_SAVs)\n",
    "print(f'\\n{len(known_neu_SAVs)} known neutral PIK3CA SAVs:')\n",
    "print(known_neu_SAVs)"
   ]
  },
  {
   "cell_type": "markdown",
   "metadata": {},
   "source": [
    "Let's exclude these variants from the dataset. We will also only consider variants with associated PDB structures larger than 150 residues, which we found to improve prediction accuracy. "
   ]
  },
  {
   "cell_type": "code",
   "execution_count": 5,
   "metadata": {},
   "outputs": [
    {
     "data": {
      "text/plain": [
       "23346"
      ]
     },
     "execution_count": 5,
     "metadata": {},
     "output_type": "execute_result"
    }
   ],
   "source": [
    "ID_subset = ID[ [i for i,SAV in enumerate(ID) if not SAV['SAV_coords'].startswith('P42336') \n",
    "                                                 and SAV['PDB_length']>=150] ]\n",
    "len(ID_subset)"
   ]
  },
  {
   "cell_type": "code",
   "execution_count": 6,
   "metadata": {},
   "outputs": [],
   "source": [
    "# complete set of Rhapsody features\n",
    "full_clsf_featset = ['SAV_coords', 'true_label', \n",
    "                     'wt_PSIC', 'Delta_PSIC', 'SASA', 'ANM_MSF-chain', \n",
    "                     'ANM_effectiveness-chain', 'ANM_sensitivity-chain',\n",
    "                     'stiffness-chain', 'entropy', 'ranked_MI', 'BLOSUM']\n",
    "# reduced set of Rhapsody features (without features computed on Pfam domains)\n",
    "redx_clsf_featset = [f for f in full_clsf_featset if f not in ['entropy', 'ranked_MI']]"
   ]
  },
  {
   "cell_type": "code",
   "execution_count": 7,
   "metadata": {},
   "outputs": [
    {
     "name": "stdout",
     "output_type": "stream",
     "text": [
      "results already precomputed\n"
     ]
    }
   ],
   "source": [
    "if os.path.isdir('results'):\n",
    "    print('results already precomputed')\n",
    "else:\n",
    "    os.mkdir('results/')"
   ]
  },
  {
   "cell_type": "code",
   "execution_count": 8,
   "metadata": {},
   "outputs": [
    {
     "name": "stdout",
     "output_type": "stream",
     "text": [
      "full classifier already trained\n"
     ]
    }
   ],
   "source": [
    "# training of full classifier\n",
    "if os.path.isdir('results/full_clsf'):\n",
    "    print('full classifier already trained')\n",
    "else:\n",
    "    os.mkdir('results/full_clsf')\n",
    "    full_clsf = trainRFclassifier(ID_subset[full_clsf_featset])\n",
    "    for file in glob.glob('*png') + ['trained_classifier.pkl',]:\n",
    "        os.rename(file, os.path.join('results/full_clsf', file))"
   ]
  },
  {
   "cell_type": "code",
   "execution_count": 9,
   "metadata": {},
   "outputs": [
    {
     "name": "stdout",
     "output_type": "stream",
     "text": [
      "reduced classifier already trained\n"
     ]
    }
   ],
   "source": [
    "# training of reduced classifier\n",
    "if os.path.isdir('results/redx_clsf'):\n",
    "    print('reduced classifier already trained')\n",
    "else:\n",
    "    os.mkdir('results/redx_clsf')\n",
    "    redx_clsf = trainRFclassifier(ID_subset[redx_clsf_featset])\n",
    "    for file in glob.glob('*png') + ['trained_classifier.pkl',]:\n",
    "        os.rename(file, os.path.join('results/redx_clsf', file))"
   ]
  },
  {
   "cell_type": "markdown",
   "metadata": {},
   "source": [
    "## Predictions\n",
    "We will perform a complete scanning of all amino acid variants (*in silico* saturation mutagenesis).\n",
    "\n",
    "**NB:** PolyPhen-2 predictions are precomputed and saved in `data/pph2`"
   ]
  },
  {
   "cell_type": "code",
   "execution_count": 10,
   "metadata": {
    "scrolled": true
   },
   "outputs": [
    {
     "name": "stdout",
     "output_type": "stream",
     "text": [
      "predictions already precomputed\n"
     ]
    }
   ],
   "source": [
    "if os.path.isdir('results/predictions'):\n",
    "    print('predictions already precomputed')\n",
    "    rh = pickle.load(open('results/predictions/rhapsody-pickle.pkl', 'rb'))\n",
    "else:\n",
    "    os.mkdir('results/predictions')\n",
    "    # run rhapsody\n",
    "    rh = rhapsody('data/pph2/pph2-full.txt', 'results/full_clsf/trained_classifier.pkl',\n",
    "                  aux_classifier='results/redx_clsf/trained_classifier.pkl', input_type='PP2')\n",
    "    # store files\n",
    "    for f in glob.glob('rhapsody-*.*'):\n",
    "        os.rename(f, os.path.join('results/predictions', f))"
   ]
  },
  {
   "cell_type": "code",
   "execution_count": 11,
   "metadata": {},
   "outputs": [
    {
     "name": "stderr",
     "output_type": "stream",
     "text": [
      "@> Recovering EVmutation data...\n",
      "@> EVmutation scores recovered in 31.2s.\n"
     ]
    },
    {
     "data": {
      "text/plain": [
       "array([(nan, nan, nan, nan), (nan, nan, nan, nan), (nan, nan, nan, nan),\n",
       "       ..., (nan, nan, nan, nan), (nan, nan, nan, nan),\n",
       "       (nan, nan, nan, nan)],\n",
       "      dtype=[('EVmut-DeltaE_epist', '<f4'), ('EVmut-DeltaE_indep', '<f4'), ('EVmut-mut_aa_freq', '<f4'), ('EVmut-wt_aa_cons', '<f4')])"
      ]
     },
     "execution_count": 11,
     "metadata": {},
     "output_type": "execute_result"
    }
   ],
   "source": [
    "# import EVmutation scores\n",
    "rh.calcEVmutationFeats()"
   ]
  },
  {
   "cell_type": "markdown",
   "metadata": {},
   "source": [
    "## Comparison with experimental data from Dogruluk et al.\n",
    "\n",
    "We compare Rhapsody predictions and those from other methods cited in the paper with the results from the 5 functional assays."
   ]
  },
  {
   "cell_type": "code",
   "execution_count": 12,
   "metadata": {},
   "outputs": [
    {
     "data": {
      "text/plain": [
       "('Variant',\n",
       " 'COSMIC frequency',\n",
       " 'GF-free survival',\n",
       " 'Insulin-free survival',\n",
       " 'Ba/F3',\n",
       " 'Tumorigenesis',\n",
       " 'Soft agar colonies',\n",
       " 'Condel',\n",
       " 'Condel score',\n",
       " 'PolyPhen',\n",
       " 'PolyPhen score',\n",
       " 'SIFT',\n",
       " 'SIFT score',\n",
       " 'MutationAssessor',\n",
       " 'MutationAssessor score',\n",
       " 'CanDrA+CTS',\n",
       " 'CanDrA+CTS score',\n",
       " 'CanDrA+GEN',\n",
       " 'CanDrA+GEN score',\n",
       " 'CHASM driver score',\n",
       " 'VEST functional score',\n",
       " 'Mutation Taster',\n",
       " 'Mutation Taster score')"
      ]
     },
     "execution_count": 12,
     "metadata": {},
     "output_type": "execute_result"
    }
   ],
   "source": [
    "# import precomputed structured array with data from Dogruluk et al.\n",
    "data_Dogruluk = pickle.load(open('data/Dogruluk_etal-data.pkl', 'rb'))\n",
    "data_Dogruluk.dtype.names"
   ]
  },
  {
   "cell_type": "code",
   "execution_count": 13,
   "metadata": {},
   "outputs": [],
   "source": [
    "assays = ['GF-free survival', 'Insulin-free survival', 'Ba/F3', 'Tumorigenesis', 'Soft agar colonies']\n",
    "\n",
    "methods = ['Condel score', 'PolyPhen score', 'SIFT score', \n",
    "           'MutationAssessor score', 'CanDrA+CTS score', 'CanDrA+GEN score', \n",
    "           'CHASM driver score', 'VEST functional score', 'Mutation Taster score',\n",
    "           'rhapsody', 'EVmutation', 'PolyPhen-2']"
   ]
  },
  {
   "cell_type": "code",
   "execution_count": 14,
   "metadata": {},
   "outputs": [],
   "source": [
    "# select given variants among Rhapsody results\n",
    "sel_SAVs_1 = []\n",
    "for var in data_Dogruluk['Variant']:\n",
    "    SAV = f'P42336 {var[1:-1]} {var[0]} {var[-1]}'\n",
    "    sel_SAVs_1.append( np.where(rh.SAVcoords['text'] == SAV)[0][0] )\n",
    "\n",
    "rhaps_SAVs  = rh.SAVcoords['text'][sel_SAVs_1]\n",
    "rhaps_preds = rh.mixPreds['path. probability'][sel_SAVs_1]\n",
    "rhaps_class = rh.mixPreds['path. class'][sel_SAVs_1]\n",
    "EVmut_preds = - rh.calcEVmutationFeats()['EVmut-DeltaE_epist'][sel_SAVs_1]\n",
    "pph2_preds  = np.array([l['pph2_prob'] for l in rh.PP2output], dtype=float)[sel_SAVs_1]\n",
    "pph2_class  = np.array([l['pph2_class'] for l in rh.PP2output])[sel_SAVs_1]"
   ]
  },
  {
   "cell_type": "markdown",
   "metadata": {},
   "source": [
    "In the following, we measure the classification accuracy of each method by computing the AUROC against the experimental measurements. For simplicity, we considered phenotype levels `{0, 1}` as neutral and `{2, 3}` as deleterious."
   ]
  },
  {
   "cell_type": "code",
   "execution_count": 15,
   "metadata": {
    "scrolled": true
   },
   "outputs": [
    {
     "name": "stdout",
     "output_type": "stream",
     "text": [
      "                   GF-free survi   Insulin-free    Ba/F3           Tumorigenesis   Soft agar col   average       \n",
      "Condel             0.604           0.483           0.604           0.389           0.497           0.530         \n",
      "PolyPhen           0.696           0.493           0.696           0.500           0.556           0.652         \n",
      "SIFT               0.509           0.500           0.509           0.692           0.583           0.573         \n",
      "MutationAssessor   0.616           0.441           0.616           0.442           0.580           0.573         \n",
      "CanDrA+CTS         0.554           0.403           0.554           0.500           0.562           0.570         \n",
      "CanDrA+GEN         0.682           0.627           0.682           0.688           0.794           0.715         \n",
      "CHASM driver       0.387           0.434           0.387           0.428           0.497           0.394         \n",
      "VEST functional    0.685           0.646           0.685           0.567           0.556           0.655         \n",
      "Mutation Taster    0.607           0.597           0.607           0.615           0.597           0.600         \n",
      "--------------------------------------------------------------------------------------------------------------\n",
      "rhapsody           0.536           0.319           0.536           0.351           0.389           0.515         \n",
      "EVmutation         0.609           0.527           0.609           0.444           0.688           0.556         \n",
      "PolyPhen-2         0.667           0.497           0.667           0.486           0.538           0.615         \n"
     ]
    }
   ],
   "source": [
    "from sklearn.metrics import roc_auc_score as auroc\n",
    "\n",
    "print(' '*19 + '  '.join([f'{m[:13]:<14}' for m in assays + ['average',]]))\n",
    "\n",
    "for method in methods:\n",
    "    if method == 'rhapsody':\n",
    "        preds = rhaps_preds\n",
    "    elif method == 'EVmutation':\n",
    "        preds = EVmut_preds\n",
    "    elif method == 'PolyPhen-2':\n",
    "        preds = pph2_preds\n",
    "    else:\n",
    "        preds = data_Dogruluk[method]\n",
    "    corrs = []\n",
    "    aurocs = []\n",
    "    for assay in assays + ['average',]:\n",
    "        if assay == 'average':\n",
    "            exp_data = [np.nanmean(list(r)) for r in data_Dogruluk[assays]]\n",
    "        else:\n",
    "            exp_data = data_Dogruluk[assay]\n",
    "        # skip invalid (NaN) values\n",
    "        exp_data = np.array( exp_data )\n",
    "        preds    = np.array( preds )\n",
    "        sel = np.isnan(exp_data * preds)\n",
    "        # compute AUROC\n",
    "        bin_labels = np.where(exp_data[~sel]<2, 0, 1)\n",
    "        aurocs.append(auroc(bin_labels, preds[~sel]))\n",
    "        \n",
    "    m = method.replace(' score', '')\n",
    "    if method == 'rhapsody':\n",
    "        print('-'*110)\n",
    "    print(f'{m:<18} ' + '  '.join([f'{a:<13.3f} ' for a in aurocs]))"
   ]
  },
  {
   "cell_type": "markdown",
   "metadata": {},
   "source": [
    "In the following, we compare the predictions between Rhapsody and PolyPhen-2 against the label found in the training dataset, when present, and the experimental *average* results. The last column shows the standard deviation of the experimental measurements, which indicates the degree of accord between the 5 assays."
   ]
  },
  {
   "cell_type": "code",
   "execution_count": 16,
   "metadata": {
    "scrolled": false
   },
   "outputs": [
    {
     "name": "stdout",
     "output_type": "stream",
     "text": [
      "                     rhapsody        PolyPhen-2      trainining        exp      (std)\n",
      "P42336 31 I M        neutral         neutral         -                0.00       0.00\n",
      "P42336 111 K N       prob.delet.     deleterious     -                1.00       0.89\n",
      "P42336 345 N I       deleterious     deleterious     -                1.00       0.63\n",
      "P42336 345 N K       deleterious     deleterious     -                2.50       0.50\n",
      "P42336 420 C R       neutral         deleterious     known_del        2.25       0.43\n",
      "P42336 453 E K       neutral         deleterious     -                1.00       0.63\n",
      "P42336 539 P R       deleterious     deleterious     -                0.80       0.40\n",
      "P42336 542 E K       neutral         deleterious     known_del        2.75       0.43\n",
      "P42336 542 E V       prob.neutral    deleterious     known_del        1.00       0.00\n",
      "P42336 545 E K       neutral         deleterious     known_del        3.00       0.00\n",
      "P42336 545 E Q       neutral         deleterious     -                1.40       0.49\n",
      "P42336 545 E A       neutral         deleterious     known_del        2.25       0.43\n",
      "P42336 545 E G       neutral         deleterious     known_del        1.80       0.98\n",
      "P42336 546 Q K       neutral         deleterious     -                2.20       0.40\n",
      "P42336 546 Q E       neutral         deleterious     -                1.80       0.75\n",
      "P42336 546 Q P       neutral         deleterious     known_del        2.20       0.40\n",
      "P42336 546 Q R       neutral         deleterious     known_del        2.00       0.63\n",
      "P42336 701 H P       neutral         deleterious     -                0.00       0.00\n",
      "P42336 1020 A V      neutral         deleterious     -                0.00       0.00\n",
      "P42336 1043 M V      neutral         neutral         -                1.60       0.80\n",
      "P42336 1043 M I      neutral         neutral         known_del        0.60       0.80\n",
      "P42336 1044 N K      neutral         deleterious     -                0.80       0.40\n",
      "P42336 1047 H Y      neutral         neutral         known_del        1.60       0.49\n",
      "P42336 1047 H R      neutral         deleterious     known_del        3.00       0.00\n",
      "P42336 1047 H L      neutral         neutral         -                2.50       0.50\n",
      "P42336 1049 G R      neutral         neutral         -                2.80       0.40\n"
     ]
    }
   ],
   "source": [
    "print(f'{\"\":20} {\"rhapsody\":15} {\"PolyPhen-2\":15} {\"trainining\":10} {\"exp\":>10} {\"(std)\":>10}')\n",
    "\n",
    "for i, SAV in enumerate(rhaps_SAVs):\n",
    "    if SAV in known_del_SAVs:\n",
    "        status = 'known_del'\n",
    "    elif SAV in known_neu_SAVs:\n",
    "        status = 'known_neu'\n",
    "    else:\n",
    "        status = '-'\n",
    "    exp_mean = np.nanmean(list(data_Dogruluk[assays][i]))\n",
    "    exp_std  = np.nanstd(list(data_Dogruluk[assays][i]))\n",
    "    print(f'{SAV:20} {rhaps_class[i]:15} {pph2_class[i]:15} {status:10} {exp_mean:>10.2f} {exp_std:>10.2f}')"
   ]
  },
  {
   "cell_type": "markdown",
   "metadata": {},
   "source": [
    "We note the tendency of Rhapsody to assign a `neutral` prediction to variants that are found mostly pathogenic by experiment. In the following we focus especially on mutations at `E542`, `E545` and `Q546`."
   ]
  },
  {
   "cell_type": "code",
   "execution_count": 33,
   "metadata": {},
   "outputs": [
    {
     "data": {
      "image/png": "[encoded data removed]",
      "text/plain": [
       "<Figure size 720x432 with 1 Axes>"
      ]
     },
     "metadata": {
      "needs_background": "light"
     },
     "output_type": "display_data"
    }
   ],
   "source": [
    "from matplotlib import pyplot as plt\n",
    "\n",
    "fig, ax = plt.subplots(1, 1, figsize=(10,6))\n",
    "for i,feat in enumerate(rh.featSet):\n",
    "    p = rh.featMatrix[sel_SAVs_1,i] / np.nanmean(rh.featMatrix[:,i])\n",
    "    lw = 3 if feat in ['SASA'] else 1\n",
    "    ax.plot(p, label=feat, lw=lw)\n",
    "ax.set_xticks(range(len(sel_SAVs_1)))\n",
    "ax.set_xticklabels(data_Dogruluk['Variant'], rotation='vertical')\n",
    "ax.set_ylabel('a.u.')\n",
    "lgd = fig.legend(bbox_to_anchor=(0.55, 0.97), loc='upper left', ncol=2)\n",
    "\n",
    "if not os.path.isdir('figures'):\n",
    "    os.mkdir('figures')\n",
    "fig.savefig('figures/features-Dogruluk.png', bbox_extra_artists=(lgd,), dpi=300)"
   ]
  },
  {
   "cell_type": "markdown",
   "metadata": {},
   "source": [
    "It is difficult to try and interpret the motivation behind some prediction, but we notice that, e.g., position 542, 545 and 546 have a relatively hight solvent-accessible area. We can hypothesize that the Rhapsody classifier work best in region of structural interest, while for residues exposed on the surface it mainly relies on conservation/coevolution analysis. In this particular instance, the classifier is not able to predict the correct outcome of variants at those position."
   ]
  },
  {
   "cell_type": "markdown",
   "metadata": {},
   "source": [
    "## Comparison with experimental data from Zhang et al."
   ]
  },
  {
   "cell_type": "code",
   "execution_count": 18,
   "metadata": {},
   "outputs": [
    {
     "data": {
      "text/plain": [
       "('Hugo_Symbol',\n",
       " 'AA change',\n",
       " 'Chromosome',\n",
       " 'Start_position',\n",
       " 'Variant_Classification',\n",
       " 'Variant_Type',\n",
       " 'number of samples',\n",
       " 'number of patients',\n",
       " 'Summary pred. functional (no functional assays)',\n",
       " 'Taylor hotspot',\n",
       " 'oncogene',\n",
       " 'Mutation Assessor',\n",
       " 'Additional literature assessment (D. Kwiatkowski)',\n",
       " 'BaF3_Call',\n",
       " 'MCF10A_Call',\n",
       " 'AKT_pS473',\n",
       " 'AKT_pT308',\n",
       " 'MTOR_pS2448',\n",
       " 'P70S6K_pT389',\n",
       " 'S6_pS235S236',\n",
       " 'S6_pS240S244',\n",
       " 'PI3K/AKT sig',\n",
       " 'mTOR sig',\n",
       " 'f23',\n",
       " 'f24')"
      ]
     },
     "execution_count": 18,
     "metadata": {},
     "output_type": "execute_result"
    }
   ],
   "source": [
    "# import PIK3CA data from Zhang et al.\n",
    "with open('data/Zhang_etal-data.csv') as csv_file:\n",
    "    csv_read = list(csv.reader(csv_file))\n",
    "    \n",
    "# convert to structured array. Select only PIK3CA missense variants\n",
    "dt = np.dtype([(f, 'U30') for f in csv_read[2]])\n",
    "PIK3CA_lines = [x for x in csv_read if x[0]=='PIK3CA' and x[4]=='Missense_Mutation']\n",
    "data_Zhang = np.empty(len(PIK3CA_lines), dtype=dt)\n",
    "for i,l in enumerate(PIK3CA_lines):\n",
    "    data_Zhang[i] = tuple(l)\n",
    "data_Zhang.dtype.names"
   ]
  },
  {
   "cell_type": "markdown",
   "metadata": {},
   "source": [
    "In this case we will compare Rhapsody predictions with the columns `Summary pred. functional` and `Additional literature assessment` (\"methods\") and with the 2 experimental functional assays `BaF3_Call` and `MCF10A_Call`."
   ]
  },
  {
   "cell_type": "code",
   "execution_count": 19,
   "metadata": {},
   "outputs": [],
   "source": [
    "assays = ['BaF3_Call', 'MCF10A_Call']\n",
    "\n",
    "methods = ['Summary pred. functional (no functional assays)', 'Additional literature assessment (D. Kwiatkowski)',\n",
    "           'rhapsody', 'EVmutation', 'PolyPhen-2']"
   ]
  },
  {
   "cell_type": "code",
   "execution_count": 20,
   "metadata": {},
   "outputs": [
    {
     "data": {
      "text/plain": [
       "{'0', '1'}"
      ]
     },
     "execution_count": 20,
     "metadata": {},
     "output_type": "execute_result"
    }
   ],
   "source": [
    "set(data_Zhang['Summary pred. functional (no functional assays)'])"
   ]
  },
  {
   "cell_type": "code",
   "execution_count": 21,
   "metadata": {
    "scrolled": true
   },
   "outputs": [
    {
     "data": {
      "text/plain": [
       "{'NA', 'likely', 'no', 'yes'}"
      ]
     },
     "execution_count": 21,
     "metadata": {},
     "output_type": "execute_result"
    }
   ],
   "source": [
    "set(data_Zhang['Additional literature assessment (D. Kwiatkowski)'])"
   ]
  },
  {
   "cell_type": "code",
   "execution_count": 22,
   "metadata": {},
   "outputs": [
    {
     "data": {
      "text/plain": [
       "{'Moderate activating', 'NA', 'NDFW', 'Strong activating'}"
      ]
     },
     "execution_count": 22,
     "metadata": {},
     "output_type": "execute_result"
    }
   ],
   "source": [
    "set(data_Zhang['BaF3_Call'])"
   ]
  },
  {
   "cell_type": "code",
   "execution_count": 23,
   "metadata": {},
   "outputs": [
    {
     "data": {
      "text/plain": [
       "{'Moderate activating',\n",
       " 'N/A',\n",
       " 'NA',\n",
       " 'NDFW',\n",
       " 'Strong activating',\n",
       " 'Weak activating'}"
      ]
     },
     "execution_count": 23,
     "metadata": {},
     "output_type": "execute_result"
    }
   ],
   "source": [
    "set(data_Zhang['MCF10A_Call'])"
   ]
  },
  {
   "cell_type": "markdown",
   "metadata": {},
   "source": [
    "We will use the following mapping, for simplicity:"
   ]
  },
  {
   "cell_type": "code",
   "execution_count": 24,
   "metadata": {},
   "outputs": [],
   "source": [
    "mapping = {}\n",
    "for case in ['NA', 'N/A']:\n",
    "    mapping[case] = np.nan\n",
    "for case in ['0', 'NDFW', 'no']:\n",
    "    mapping[case] = 0\n",
    "for case in ['Weak activating',]:\n",
    "    mapping[case] = 1\n",
    "for case in ['Moderate activating', 'likely']:\n",
    "    mapping[case] = 2\n",
    "for case in ['Strong activating', 'yes', '1']:\n",
    "    mapping[case] = 3"
   ]
  },
  {
   "cell_type": "code",
   "execution_count": 25,
   "metadata": {},
   "outputs": [],
   "source": [
    "# select given variants among Rhapsody results\n",
    "sel_SAVs_2 = []\n",
    "for var in data_Zhang['AA change']:\n",
    "    SAV = f'P42336 {var[3:-1]} {var[2]} {var[-1]}'\n",
    "    sel_SAVs_2.append( np.where(rh.SAVcoords['text'] == SAV)[0][0] )\n",
    "\n",
    "rhaps_SAVs  = rh.SAVcoords['text'][sel_SAVs_2]\n",
    "rhaps_preds = rh.mixPreds['path. probability'][sel_SAVs_2]\n",
    "rhaps_class = rh.mixPreds['path. class'][sel_SAVs_2]\n",
    "EVmut_preds = - rh.calcEVmutationFeats()['EVmut-DeltaE_epist'][sel_SAVs_2]\n",
    "pph2_preds  = np.array([l['pph2_prob'] for l in rh.PP2output], dtype=float)[sel_SAVs_2]\n",
    "pph2_class  = np.array([l['pph2_class'] for l in rh.PP2output])[sel_SAVs_2]"
   ]
  },
  {
   "cell_type": "code",
   "execution_count": 26,
   "metadata": {},
   "outputs": [
    {
     "name": "stdout",
     "output_type": "stream",
     "text": [
      "                                   BaF3_Call       MCF10A_Call   \n",
      "Summary pred. functional           0.600           0.543         \n",
      "Additional literature assessment   0.797           0.620         \n",
      "--------------------------------------------------------------------------------------------------------------\n",
      "rhapsody                           0.317           0.621         \n",
      "EVmutation                         0.461           0.629         \n",
      "PolyPhen-2                         0.362           0.530         \n"
     ]
    }
   ],
   "source": [
    "from sklearn.metrics import roc_auc_score as auroc\n",
    "\n",
    "print(' '*35 + '  '.join([f'{m[:13]:<14}' for m in assays]))\n",
    "\n",
    "for method in methods:\n",
    "    if method == 'rhapsody':\n",
    "        preds = rhaps_preds\n",
    "    elif method == 'EVmutation':\n",
    "        preds = EVmut_preds\n",
    "    elif method == 'PolyPhen-2':\n",
    "        preds = pph2_preds\n",
    "    else:\n",
    "        preds = [mapping[x] for x in data_Zhang[method]]\n",
    "    corrs = []\n",
    "    aurocs = []\n",
    "    for assay in assays:\n",
    "        exp_data = [mapping[x] for x in data_Zhang[assay]]\n",
    "        # skip invalid (NaN) values\n",
    "        exp_data = np.array( exp_data )\n",
    "        preds    = np.array( preds )\n",
    "        sel = np.isnan(exp_data * preds)\n",
    "        # compute AUROC\n",
    "        bin_labels = np.where(exp_data[~sel]<2, 0, 1)\n",
    "        aurocs.append(auroc(bin_labels, preds[~sel]))\n",
    "        \n",
    "    m = method.split('(')[0]\n",
    "    if method == 'rhapsody':\n",
    "        print('-'*110)\n",
    "    print(f'{m:<34} ' + '  '.join([f'{a:<13.3f} ' for a in aurocs]))"
   ]
  },
  {
   "cell_type": "code",
   "execution_count": 27,
   "metadata": {
    "scrolled": false
   },
   "outputs": [
    {
     "name": "stdout",
     "output_type": "stream",
     "text": [
      "                     rhapsody        PolyPhen-2      trainining           BaF3_Call            MCF10A_Call         \n",
      "P42336 378 C Y       neutral         deleterious     known_del            Moderate activating  NDFW                \n",
      "P42336 420 C R       neutral         deleterious     known_del            Strong activating    Strong activating   \n",
      "P42336 971 C R       neutral         neutral         -                    NDFW                 Moderate activating \n",
      "P42336 350 D G       neutral         deleterious     -                    Moderate activating  Weak activating     \n",
      "P42336 350 D N       neutral         deleterious     -                    Moderate activating  Weak activating     \n",
      "P42336 365 E K       neutral         deleterious     known_del            Moderate activating  NDFW                \n",
      "P42336 39 E K        neutral         deleterious     -                    Moderate activating  NA                  \n",
      "P42336 453 E K       neutral         deleterious     -                    Strong activating    Moderate activating \n",
      "P42336 542 E A       prob.neutral    deleterious     -                    Strong activating    Moderate activating \n",
      "P42336 542 E K       neutral         deleterious     known_del            Strong activating    Moderate activating \n",
      "P42336 542 E Q       prob.neutral    deleterious     -                    NDFW                 NA                  \n",
      "P42336 542 E V       prob.neutral    deleterious     known_del            Moderate activating  Strong activating   \n",
      "P42336 545 E A       neutral         deleterious     known_del            Strong activating    NA                  \n",
      "P42336 545 E D       neutral         deleterious     -                    Strong activating    Strong activating   \n",
      "P42336 545 E G       neutral         deleterious     known_del            Strong activating    NA                  \n",
      "P42336 545 E K       neutral         deleterious     known_del            Strong activating    Strong activating   \n",
      "P42336 545 E Q       neutral         deleterious     -                    Moderate activating  Strong activating   \n",
      "P42336 726 E K       neutral         deleterious     known_del            Moderate activating  NA                  \n",
      "P42336 1007 G R      deleterious     deleterious     -                    Moderate activating  Moderate activating \n",
      "P42336 1049 G R      neutral         neutral         -                    Strong activating    NA                  \n",
      "P42336 106 G R       deleterious     deleterious     -                    NDFW                 Moderate activating \n",
      "P42336 106 G V       deleterious     deleterious     known_del            Strong activating    Strong activating   \n",
      "P42336 363 G A       prob.delet.     deleterious     -                    NDFW                 NDFW                \n",
      "P42336 364 G R       neutral         neutral         known_del            Strong activating    Moderate activating \n",
      "P42336 451 G V       prob.neutral    deleterious     -                    NDFW                 Moderate activating \n",
      "P42336 1047 H L      neutral         neutral         -                    Strong activating    Weak activating     \n",
      "P42336 1047 H Y      neutral         neutral         known_del            Moderate activating  Moderate activating \n",
      "P42336 111 K E       prob.neutral    deleterious     -                    Moderate activating  Moderate activating \n",
      "P42336 111 K N       prob.delet.     deleterious     -                    Moderate activating  Weak activating     \n",
      "P42336 1004 M I      neutral         neutral         -                    Moderate activating  NDFW                \n",
      "P42336 1043 M I      neutral         neutral         known_del            Moderate activating  Moderate activating \n",
      "P42336 1043 M L      neutral         neutral         -                    Moderate activating  Moderate activating \n",
      "P42336 1043 M V      neutral         neutral         -                    Moderate activating  NA                  \n",
      "P42336 345 N I       deleterious     deleterious     -                    Moderate activating  Weak activating     \n",
      "P42336 345 N K       deleterious     deleterious     -                    Strong activating    Strong activating   \n",
      "P42336 345 N T       deleterious     deleterious     -                    Moderate activating  Moderate activating \n",
      "P42336 104 P L       deleterious     deleterious     -                    Moderate activating  Moderate activating \n",
      "P42336 546 Q E       neutral         deleterious     -                    Moderate activating  N/A                 \n",
      "P42336 546 Q K       neutral         deleterious     -                    Strong activating    Weak activating     \n",
      "P42336 546 Q P       neutral         deleterious     known_del            Strong activating    N/A                 \n",
      "P42336 546 Q R       neutral         deleterious     known_del            Strong activating    NA                  \n",
      "P42336 108 R L       neutral         deleterious     -                    NDFW                 NDFW                \n",
      "P42336 38 R C        deleterious     deleterious     -                    NA                   NDFW                \n",
      "P42336 818 R C       neutral         deleterious     -                    NDFW                 NDFW                \n",
      "P42336 93 R W        neutral         deleterious     -                    Moderate activating  Moderate activating \n",
      "P42336 1025 T A      neutral         deleterious     known_del            Strong activating    Strong activating   \n",
      "P42336 344 V G       deleterious     deleterious     -                    Strong activating    Strong activating   \n",
      "P42336 344 V M       neutral         deleterious     -                    Moderate activating  Moderate activating \n",
      "P42336 11 W L        deleterious     deleterious     -                    NDFW                 NDFW                \n"
     ]
    }
   ],
   "source": [
    "print(f'{\"\":20} {\"rhapsody\":15} {\"PolyPhen-2\":15} {\"trainining\":20} {\"BaF3_Call\":<20} {\"MCF10A_Call\":<20}')\n",
    "\n",
    "for i, SAV in enumerate(rhaps_SAVs):\n",
    "    if SAV in known_del_SAVs:\n",
    "        status = 'known_del'\n",
    "    elif SAV in known_neu_SAVs:\n",
    "        status = 'known_neu'\n",
    "    else:\n",
    "        status = '-'\n",
    "    exp1 = data_Zhang['BaF3_Call'][i]\n",
    "    exp2 = data_Zhang['MCF10A_Call'][i]\n",
    "    if exp1 == exp2 == 'NA':\n",
    "        continue\n",
    "    print(f'{SAV:20} {rhaps_class[i]:15} {pph2_class[i]:15} {status:20} {exp1:<20} {exp2:<20}')"
   ]
  },
  {
   "cell_type": "code",
   "execution_count": null,
   "metadata": {},
   "outputs": [],
   "source": []
  }
 ],
 "metadata": {
  "kernelspec": {
   "display_name": "Python 3",
   "language": "python",
   "name": "python3"
  },
  "language_info": {
   "codemirror_mode": {
    "name": "ipython",
    "version": 3
   },
   "file_extension": ".py",
   "mimetype": "text/x-python",
   "name": "python",
   "nbconvert_exporter": "python",
   "pygments_lexer": "ipython3",
   "version": "3.7.2"
  }
 },
 "nbformat": 4,
 "nbformat_minor": 2
}
