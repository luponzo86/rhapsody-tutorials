{
 "cells": [
  {
   "cell_type": "markdown",
   "metadata": {},
   "source": [
    "# Getting started with Rhapsody\n",
    "\n",
    "## Installation\n",
    "Follow instructions in the git repository [README file](https://github.com/luponzo86/rhapsody/blob/master/README.md)."
   ]
  },
  {
   "cell_type": "markdown",
   "metadata": {},
   "source": [
    "## Initial configuration"
   ]
  },
  {
   "cell_type": "code",
   "execution_count": 1,
   "metadata": {},
   "outputs": [],
   "source": [
    "import rhapsody as rd"
   ]
  },
  {
   "cell_type": "code",
   "execution_count": 2,
   "metadata": {},
   "outputs": [
    {
     "name": "stderr",
     "output_type": "stream",
     "text": [
      "@> Pre-existing working directory detected: /home/lponzoni/rhapsody\n",
      "@> Pre-existing classifiers found: /home/lponzoni/rhapsody/default_classifiers-sklearn_v0.20.3\n",
      "@> EVmutation folder found: /home/lponzoni/rhapsody/EVmutation_mutation_effects\n",
      "@> DSSP is installed on the system\n",
      "@> Setup complete\n"
     ]
    }
   ],
   "source": [
    "rd.initialSetup()"
   ]
  },
  {
   "cell_type": "markdown",
   "metadata": {},
   "source": [
    "## Testing"
   ]
  },
  {
   "cell_type": "code",
   "execution_count": 3,
   "metadata": {},
   "outputs": [],
   "source": [
    "import os\n",
    "import shutil\n",
    "\n",
    "if os.path.isdir('local'):\n",
    "    shutil.rmtree('local')\n",
    "os.mkdir('local')"
   ]
  },
  {
   "cell_type": "code",
   "execution_count": 4,
   "metadata": {},
   "outputs": [],
   "source": [
    "test_SAVs = ['O00294 496 A T',  # know neutral SAV used for training\n",
    "             'O00238 31 R H',   # SAV with no PDB structure\n",
    "             'P01112 58 T R',   # unknown SAV\n",
    "             'P01112 30 D E',   # unknown SAV\n",
    "             'P01112 170 K I',  # unknown SAV with no Pfam domain\n",
    "             ]"
   ]
  },
  {
   "cell_type": "code",
   "execution_count": 5,
   "metadata": {},
   "outputs": [
    {
     "name": "stderr",
     "output_type": "stream",
     "text": [
      "@> Logging into file: rhapsody-log.txt\n",
      "@> Logging started at 2019-06-20 17:51:29.337616\n",
      "@> Imported feature set: 'wt_PSIC'\n",
      "@>                       'Delta_PSIC'\n",
      "@>                       'SASA'\n",
      "@>                       'ANM_MSF-chain'\n",
      "@>                       'ANM_effectiveness-chain'\n",
      "@>                       'ANM_sensitivity-chain'\n",
      "@>                       'stiffness-chain'\n",
      "@>                       'entropy'\n",
      "@>                       'ranked_MI'\n",
      "@>                       'BLOSUM'\n",
      "@> Submitting query to PolyPhen-2...\n",
      "@> Query to PolyPhen-2 started in 25.7s.\n",
      "@> PolyPhen-2 is running...\n",
      "@> Query to PolyPhen-2 completed in 0.0s.\n",
      "@> PolyPhen-2's output parsed.\n",
      "@> Sequence-conservation features have been retrieved from PolyPhen-2's output.\n",
      "@> Mapping SAVs to PDB structures...\n",
      "@> [1/5] Mapping SAV 'O00238 31 R H' to PDB...\n",
      "@> Pickle 'UniprotMap-O00238.pkl' recovered.\n",
      "@> [2/5] Mapping SAV 'O00294 496 A T' to PDB...\n",
      "@> Pickle 'UniprotMap-O00238.pkl' saved.\n",
      "@> Pickle 'UniprotMap-O00294.pkl' recovered.\n",
      "@> [3/5] Mapping SAV 'P01112 58 T R' to PDB...\n",
      "@> Pickle 'UniprotMap-O00294.pkl' saved.\n",
      "@> Pickle 'UniprotMap-P01112.pkl' recovered.\n",
      "@> [4/5] Mapping SAV 'P01112 30 D E' to PDB...\n",
      "@> [5/5] Mapping SAV 'P01112 170 K I' to PDB...\n",
      "@> Pickle 'UniprotMap-P01112.pkl' saved.\n",
      "@> SAVs have been mapped to PDB in 0.1s.\n",
      "@> Computing structural and dynamical features from PDB structures...\n",
      "@> [2/5] Analizing mutation site 1AA9:A 170...\n",
      "@> Pickle 'PDBfeatures-1AA9.pkl' recovered.\n",
      "@> [3/5] Analizing mutation site 2FIM:A 443...\n",
      "@> Pickle 'PDBfeatures-1AA9.pkl' saved.\n",
      "@> Pickle 'PDBfeatures-2FIM.pkl' recovered.\n",
      "@> [4/5] Analizing mutation site 4Q21:A 58...\n",
      "@> Pickle 'PDBfeatures-2FIM.pkl' saved.\n",
      "@> Pickle 'PDBfeatures-4Q21.pkl' recovered.\n",
      "@> [5/5] Analizing mutation site 4Q21:A 30...\n",
      "@> Pickle 'PDBfeatures-4Q21.pkl' saved.\n",
      "@> PDB features have been computed in 0.0s.\n",
      "@> Computing sequence properties from Pfam domains...\n",
      "@> [1/5] Mapping SAV 'O00238 31 R H' to Pfam...\n",
      "@> Pickle 'UniprotMap-O00238.pkl' recovered.\n",
      "@> [2/5] Mapping SAV 'O00294 496 A T' to Pfam...\n",
      "@> Pickle 'UniprotMap-O00238.pkl' saved.\n",
      "@> Pickle 'UniprotMap-O00294.pkl' recovered.\n",
      "@> [3/5] Mapping SAV 'P01112 58 T R' to Pfam...\n",
      "@> Pickle 'UniprotMap-O00294.pkl' saved.\n",
      "@> Pickle 'UniprotMap-P01112.pkl' recovered.\n",
      "@> [4/5] Mapping SAV 'P01112 30 D E' to Pfam...\n",
      "@> [5/5] Mapping SAV 'P01112 170 K I' to Pfam...\n",
      "@> WARNING Unable to compute Pfam features: No Pfam domain for resid 170.\n",
      "@> Pickle 'UniprotMap-P01112.pkl' saved.\n",
      "@> SAVs have been mapped on Pfam domains and sequence properties have been computed in 0.1s.\n",
      "@> Random Forest classifier imported in 0.4s.\n",
      "@> 3 predictions computed in 0.4s.\n",
      "@> Auxiliary Random Forest classifier imported.\n",
      "@> 4 predictions computed in 0.4s.\n",
      "@> Logging stopped at 2019-06-20 17:51:59.892579\n",
      "@> Closing logfile: rhapsody-log.txt\n"
     ]
    }
   ],
   "source": [
    "os.chdir('local')\n",
    "\n",
    "rh = rd.rhapsody(test_SAVs)\n",
    "\n",
    "os.chdir('..')"
   ]
  },
  {
   "cell_type": "code",
   "execution_count": 6,
   "metadata": {},
   "outputs": [
    {
     "data": {
      "text/plain": [
       "array([(0.11266667, 0.05765328, 'neutral', 'known_neu'),\n",
       "       (       nan,        nan, '?', 'new'),\n",
       "       (0.95133334, 0.9392126 , 'deleterious', 'new'),\n",
       "       (0.126     , 0.06226705, 'neutral', 'new'),\n",
       "       (0.426     , 0.26697505, 'neutral', 'new')],\n",
       "      dtype=[('score', '<f4'), ('path. probability', '<f4'), ('path. class', '<U12'), ('training info', '<U12')])"
      ]
     },
     "execution_count": 6,
     "metadata": {},
     "output_type": "execute_result"
    }
   ],
   "source": [
    "rh.mixPreds"
   ]
  }
 ],
 "metadata": {
  "kernelspec": {
   "display_name": "Python 3",
   "language": "python",
   "name": "python3"
  },
  "language_info": {
   "codemirror_mode": {
    "name": "ipython",
    "version": 3
   },
   "file_extension": ".py",
   "mimetype": "text/x-python",
   "name": "python",
   "nbconvert_exporter": "python",
   "pygments_lexer": "ipython3",
   "version": "3.7.3"
  }
 },
 "nbformat": 4,
 "nbformat_minor": 2
}
